{
 "cells": [
  {
   "cell_type": "markdown",
   "id": "ee4c83d1e3aa3ae1",
   "metadata": {},
   "source": [
    "# Ejercicio 2: Modelo Vectorial y TF-IDF\n",
    "\n",
    "## Objetivo de la práctica\n",
    "\n",
    "- Comprender el modelo vectorial como base para representar documentos y consultas.\n",
    "- Calcular la matriz TF-IDF para el corpus `data/01_corpus_turismo_500.txt`"
   ]
  },
  {
   "cell_type": "code",
   "execution_count": 5,
   "id": "initial_id",
   "metadata": {
    "collapsed": true
   },
   "outputs": [],
   "source": [
    "from sklearn.feature_extraction.text import TfidfVectorizer\n",
    "import os\n",
    "# Abrimos el archivo y cargamos cada línea como un documento\n",
    "with open(r'C:\\Users\\cesar\\Documents\\corpus\\01_corpus_turismo_500.txt', 'r', encoding='utf-8') as f:\n",
    "    documentos = f.readlines()\n"
   ]
  },
  {
   "cell_type": "code",
   "execution_count": 6,
   "id": "be6a408b",
   "metadata": {},
   "outputs": [
    {
     "name": "stdout",
     "output_type": "stream",
     "text": [
      "     2000      agua  amazonía  arquitectura  artesanía     atrae    atraen  \\\n",
      "0     0.0  0.000000       0.0      0.000000   0.341664  0.000000  0.000000   \n",
      "1     0.0  0.000000       0.0      0.000000   0.000000  0.000000  0.000000   \n",
      "2     0.0  0.000000       0.0      0.000000   0.000000  0.352958  0.000000   \n",
      "3     0.0  0.000000       0.0      0.000000   0.000000  0.000000  0.000000   \n",
      "4     0.0  0.000000       0.0      0.000000   0.000000  0.000000  0.000000   \n",
      "..    ...       ...       ...           ...        ...       ...       ...   \n",
      "495   0.0  0.000000       0.0      0.000000   0.339044  0.000000  0.000000   \n",
      "496   0.0  0.000000       0.0      0.338694   0.000000  0.000000  0.000000   \n",
      "497   0.0  0.293031       0.0      0.000000   0.000000  0.000000  0.000000   \n",
      "498   0.0  0.000000       0.0      0.000000   0.000000  0.000000  0.333707   \n",
      "499   0.0  0.307781       0.0      0.000000   0.000000  0.000000  0.000000   \n",
      "\n",
      "     auténtico  aventura  aves  ...  típica        un       una  vida  \\\n",
      "0          0.0  0.000000   0.0  ...     0.0  0.000000  0.000000   0.0   \n",
      "1          0.0  0.000000   0.0  ...     0.0  0.000000  0.000000   0.0   \n",
      "2          0.0  0.000000   0.0  ...     0.0  0.000000  0.240057   0.0   \n",
      "3          0.0  0.000000   0.0  ...     0.0  0.175574  0.000000   0.0   \n",
      "4          0.0  0.000000   0.0  ...     0.0  0.229707  0.000000   0.0   \n",
      "..         ...       ...   ...  ...     ...       ...       ...   ...   \n",
      "495        0.0  0.000000   0.0  ...     0.0  0.000000  0.242726   0.0   \n",
      "496        0.0  0.000000   0.0  ...     0.0  0.196950  0.000000   0.0   \n",
      "497        0.0  0.293031   0.0  ...     0.0  0.167702  0.000000   0.0   \n",
      "498        0.0  0.000000   0.0  ...     0.0  0.000000  0.000000   0.0   \n",
      "499        0.0  0.307781   0.0  ...     0.0  0.000000  0.000000   0.0   \n",
      "\n",
      "     vilcabamba  visitan  visitantes   visitar  volcán     única  \n",
      "0      0.000000      0.0    0.000000  0.000000     0.0  0.000000  \n",
      "1      0.000000      0.0    0.000000  0.000000     0.0  0.000000  \n",
      "2      0.352958      0.0    0.282204  0.000000     0.0  0.000000  \n",
      "3      0.000000      0.0    0.000000  0.000000     0.0  0.000000  \n",
      "4      0.000000      0.0    0.000000  0.000000     0.0  0.000000  \n",
      "..          ...      ...         ...       ...     ...       ...  \n",
      "495    0.000000      0.0    0.000000  0.000000     0.0  0.000000  \n",
      "496    0.000000      0.0    0.000000  0.248291     0.0  0.000000  \n",
      "497    0.000000      0.0    0.000000  0.211419     0.0  0.000000  \n",
      "498    0.000000      0.0    0.280850  0.000000     0.0  0.333707  \n",
      "499    0.000000      0.0    0.000000  0.000000     0.0  0.000000  \n",
      "\n",
      "[500 rows x 116 columns]\n"
     ]
    }
   ],
   "source": [
    "# Creamos el vectorizador TF-IDF\n",
    "vectorizador = TfidfVectorizer()\n",
    "\n",
    "# Calculamos la matriz TF-IDF\n",
    "matriz_tfidf = vectorizador.fit_transform(documentos)\n",
    "\n",
    "# Obtener términos\n",
    "terminos = vectorizador.get_feature_names_out()\n",
    "\n",
    "# Mostrar la matriz como un DataFrame para mejor visualización\n",
    "import pandas as pd\n",
    "\n",
    "df_tfidf = pd.DataFrame(matriz_tfidf.toarray(), columns=terminos)\n",
    "print(df_tfidf)\n"
   ]
  }
 ],
 "metadata": {
  "kernelspec": {
   "display_name": ".venv",
   "language": "python",
   "name": "python3"
  },
  "language_info": {
   "codemirror_mode": {
    "name": "ipython",
    "version": 3
   },
   "file_extension": ".py",
   "mimetype": "text/x-python",
   "name": "python",
   "nbconvert_exporter": "python",
   "pygments_lexer": "ipython3",
   "version": "3.13.3"
  }
 },
 "nbformat": 4,
 "nbformat_minor": 5
}
