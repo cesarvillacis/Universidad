{
 "cells": [
  {
   "cell_type": "markdown",
   "id": "8c781227",
   "metadata": {},
   "source": [
    "## Examen Segundo Bimestre RI"
   ]
  },
  {
   "cell_type": "markdown",
   "id": "5883b634",
   "metadata": {},
   "source": [
    "Preprocesamiento"
   ]
  },
  {
   "cell_type": "code",
   "execution_count": 2,
   "id": "17145517",
   "metadata": {},
   "outputs": [],
   "source": [
    "import nltk\n",
    "import pandas as pd\n",
    "from nltk.tokenize import regexp_tokenize\n",
    "from nltk.corpus import stopwords\n",
    "from nltk.stem import WordNetLemmatizer"
   ]
  },
  {
   "cell_type": "code",
   "execution_count": 3,
   "id": "2e0576cd",
   "metadata": {},
   "outputs": [
    {
     "data": {
      "text/plain": [
       "True"
      ]
     },
     "execution_count": 3,
     "metadata": {},
     "output_type": "execute_result"
    }
   ],
   "source": [
    "\n",
    "# Descarga de recursos necesarios de NLTK\n",
    "nltk.download('punkt', quiet=True)\n",
    "nltk.download('stopwords', quiet=True)\n",
    "nltk.download('wordnet', quiet=True)"
   ]
  },
  {
   "cell_type": "code",
   "execution_count": 4,
   "id": "c70b5aca",
   "metadata": {},
   "outputs": [],
   "source": [
    "df = pd.read_json('arxiv-metadata-oai-snapshot.json', lines=True)"
   ]
  },
  {
   "cell_type": "code",
   "execution_count": 5,
   "id": "5ec1730c",
   "metadata": {},
   "outputs": [],
   "source": [
    "df = df[['title', 'abstract']]"
   ]
  },
  {
   "cell_type": "code",
   "execution_count": 6,
   "id": "7c1deb55",
   "metadata": {},
   "outputs": [],
   "source": [
    "df['document'] = df['title'] + '. ' + df['abstract']"
   ]
  },
  {
   "cell_type": "code",
   "execution_count": 7,
   "id": "9a80c621",
   "metadata": {},
   "outputs": [
    {
     "data": {
      "text/html": [
       "<div>\n",
       "<style scoped>\n",
       "    .dataframe tbody tr th:only-of-type {\n",
       "        vertical-align: middle;\n",
       "    }\n",
       "\n",
       "    .dataframe tbody tr th {\n",
       "        vertical-align: top;\n",
       "    }\n",
       "\n",
       "    .dataframe thead th {\n",
       "        text-align: right;\n",
       "    }\n",
       "</style>\n",
       "<table border=\"1\" class=\"dataframe\">\n",
       "  <thead>\n",
       "    <tr style=\"text-align: right;\">\n",
       "      <th></th>\n",
       "      <th>document</th>\n",
       "    </tr>\n",
       "  </thead>\n",
       "  <tbody>\n",
       "    <tr>\n",
       "      <th>0</th>\n",
       "      <td>Calculation of prompt diphoton production cros...</td>\n",
       "    </tr>\n",
       "    <tr>\n",
       "      <th>1</th>\n",
       "      <td>Sparsity-certifying Graph Decompositions.   We...</td>\n",
       "    </tr>\n",
       "    <tr>\n",
       "      <th>2</th>\n",
       "      <td>The evolution of the Earth-Moon system based o...</td>\n",
       "    </tr>\n",
       "    <tr>\n",
       "      <th>3</th>\n",
       "      <td>A determinant of Stirling cycle numbers counts...</td>\n",
       "    </tr>\n",
       "    <tr>\n",
       "      <th>4</th>\n",
       "      <td>From dyadic $\\Lambda_{\\alpha}$ to $\\Lambda_{\\a...</td>\n",
       "    </tr>\n",
       "  </tbody>\n",
       "</table>\n",
       "</div>"
      ],
      "text/plain": [
       "                                            document\n",
       "0  Calculation of prompt diphoton production cros...\n",
       "1  Sparsity-certifying Graph Decompositions.   We...\n",
       "2  The evolution of the Earth-Moon system based o...\n",
       "3  A determinant of Stirling cycle numbers counts...\n",
       "4  From dyadic $\\Lambda_{\\alpha}$ to $\\Lambda_{\\a..."
      ]
     },
     "execution_count": 7,
     "metadata": {},
     "output_type": "execute_result"
    }
   ],
   "source": [
    "df[['document']].head()"
   ]
  },
  {
   "cell_type": "code",
   "execution_count": 8,
   "id": "2d4712a9",
   "metadata": {},
   "outputs": [],
   "source": [
    "def remove_stopwords(tokens):\n",
    "    stop_words = set(stopwords.words('english'))\n",
    "    return [token for token in tokens if token not in stop_words]\n",
    "\n",
    "def lemmatize_tokens(tokens):\n",
    "    lemmatizer = WordNetLemmatizer()\n",
    "    return [lemmatizer.lemmatize(token) for token in tokens]\n",
    "\n",
    "def preprocess_documents(documents, return_type='df'):\n",
    "    df = pd.DataFrame(documents, columns=['document'])\n",
    "    df['regex_tokens'] = df['document'].str.lower().apply(\n",
    "        lambda text: regexp_tokenize(text, pattern=r'\\w[a-z]+')\n",
    "    )\n",
    "    df['no_stopwords'] = df['regex_tokens'].apply(remove_stopwords)\n",
    "    df['lemmas'] = df['no_stopwords'].apply(lemmatize_tokens)\n",
    "    df['prep_doc'] = df['lemmas'].str.join(' ')\n",
    "    return df[['document', 'regex_tokens', 'no_stopwords', 'lemmas', 'prep_doc']] if return_type == 'df' else df['lemmas'].tolist()\n",
    "\n",
    "def preprocess_both(text: str) -> tuple[str, list[str]]:\n",
    "    df = preprocess_documents([text])\n",
    "    clean = df['prep_doc'].iloc[0]\n",
    "    tokens = preprocess_documents([text], return_type='tokens')[0]\n",
    "    return clean, tokens\n"
   ]
  },
  {
   "cell_type": "code",
   "execution_count": 10,
   "id": "abf6b93f",
   "metadata": {},
   "outputs": [],
   "source": [
    "subset = df.head()['document'].tolist()\n",
    "preprocessed_df = preprocess_documents(subset)"
   ]
  },
  {
   "cell_type": "code",
   "execution_count": 11,
   "id": "ccb6278f",
   "metadata": {},
   "outputs": [
    {
     "data": {
      "text/html": [
       "<div>\n",
       "<style scoped>\n",
       "    .dataframe tbody tr th:only-of-type {\n",
       "        vertical-align: middle;\n",
       "    }\n",
       "\n",
       "    .dataframe tbody tr th {\n",
       "        vertical-align: top;\n",
       "    }\n",
       "\n",
       "    .dataframe thead th {\n",
       "        text-align: right;\n",
       "    }\n",
       "</style>\n",
       "<table border=\"1\" class=\"dataframe\">\n",
       "  <thead>\n",
       "    <tr style=\"text-align: right;\">\n",
       "      <th></th>\n",
       "      <th>document</th>\n",
       "      <th>regex_tokens</th>\n",
       "      <th>no_stopwords</th>\n",
       "      <th>lemmas</th>\n",
       "      <th>prep_doc</th>\n",
       "    </tr>\n",
       "  </thead>\n",
       "  <tbody>\n",
       "    <tr>\n",
       "      <th>0</th>\n",
       "      <td>Calculation of prompt diphoton production cros...</td>\n",
       "      <td>[calculation, of, prompt, diphoton, production...</td>\n",
       "      <td>[calculation, prompt, diphoton, production, cr...</td>\n",
       "      <td>[calculation, prompt, diphoton, production, cr...</td>\n",
       "      <td>calculation prompt diphoton production cross s...</td>\n",
       "    </tr>\n",
       "    <tr>\n",
       "      <th>1</th>\n",
       "      <td>Sparsity-certifying Graph Decompositions.   We...</td>\n",
       "      <td>[sparsity, certifying, graph, decompositions, ...</td>\n",
       "      <td>[sparsity, certifying, graph, decompositions, ...</td>\n",
       "      <td>[sparsity, certifying, graph, decomposition, d...</td>\n",
       "      <td>sparsity certifying graph decomposition descri...</td>\n",
       "    </tr>\n",
       "    <tr>\n",
       "      <th>2</th>\n",
       "      <td>The evolution of the Earth-Moon system based o...</td>\n",
       "      <td>[the, evolution, of, the, earth, moon, system,...</td>\n",
       "      <td>[evolution, earth, moon, system, based, dark, ...</td>\n",
       "      <td>[evolution, earth, moon, system, based, dark, ...</td>\n",
       "      <td>evolution earth moon system based dark matter ...</td>\n",
       "    </tr>\n",
       "    <tr>\n",
       "      <th>3</th>\n",
       "      <td>A determinant of Stirling cycle numbers counts...</td>\n",
       "      <td>[determinant, of, stirling, cycle, numbers, co...</td>\n",
       "      <td>[determinant, stirling, cycle, numbers, counts...</td>\n",
       "      <td>[determinant, stirling, cycle, number, count, ...</td>\n",
       "      <td>determinant stirling cycle number count unlabe...</td>\n",
       "    </tr>\n",
       "    <tr>\n",
       "      <th>4</th>\n",
       "      <td>From dyadic $\\Lambda_{\\alpha}$ to $\\Lambda_{\\a...</td>\n",
       "      <td>[from, dyadic, lambda, alpha, to, lambda, alph...</td>\n",
       "      <td>[dyadic, lambda, alpha, lambda, alpha, paper, ...</td>\n",
       "      <td>[dyadic, lambda, alpha, lambda, alpha, paper, ...</td>\n",
       "      <td>dyadic lambda alpha lambda alpha paper show co...</td>\n",
       "    </tr>\n",
       "  </tbody>\n",
       "</table>\n",
       "</div>"
      ],
      "text/plain": [
       "                                            document  \\\n",
       "0  Calculation of prompt diphoton production cros...   \n",
       "1  Sparsity-certifying Graph Decompositions.   We...   \n",
       "2  The evolution of the Earth-Moon system based o...   \n",
       "3  A determinant of Stirling cycle numbers counts...   \n",
       "4  From dyadic $\\Lambda_{\\alpha}$ to $\\Lambda_{\\a...   \n",
       "\n",
       "                                        regex_tokens  \\\n",
       "0  [calculation, of, prompt, diphoton, production...   \n",
       "1  [sparsity, certifying, graph, decompositions, ...   \n",
       "2  [the, evolution, of, the, earth, moon, system,...   \n",
       "3  [determinant, of, stirling, cycle, numbers, co...   \n",
       "4  [from, dyadic, lambda, alpha, to, lambda, alph...   \n",
       "\n",
       "                                        no_stopwords  \\\n",
       "0  [calculation, prompt, diphoton, production, cr...   \n",
       "1  [sparsity, certifying, graph, decompositions, ...   \n",
       "2  [evolution, earth, moon, system, based, dark, ...   \n",
       "3  [determinant, stirling, cycle, numbers, counts...   \n",
       "4  [dyadic, lambda, alpha, lambda, alpha, paper, ...   \n",
       "\n",
       "                                              lemmas  \\\n",
       "0  [calculation, prompt, diphoton, production, cr...   \n",
       "1  [sparsity, certifying, graph, decomposition, d...   \n",
       "2  [evolution, earth, moon, system, based, dark, ...   \n",
       "3  [determinant, stirling, cycle, number, count, ...   \n",
       "4  [dyadic, lambda, alpha, lambda, alpha, paper, ...   \n",
       "\n",
       "                                            prep_doc  \n",
       "0  calculation prompt diphoton production cross s...  \n",
       "1  sparsity certifying graph decomposition descri...  \n",
       "2  evolution earth moon system based dark matter ...  \n",
       "3  determinant stirling cycle number count unlabe...  \n",
       "4  dyadic lambda alpha lambda alpha paper show co...  "
      ]
     },
     "execution_count": 11,
     "metadata": {},
     "output_type": "execute_result"
    }
   ],
   "source": [
    "preprocessed_df.head()"
   ]
  },
  {
   "cell_type": "markdown",
   "id": "7023f9fb",
   "metadata": {},
   "source": [
    "Implementacion de TF-IDF y BM25"
   ]
  },
  {
   "cell_type": "code",
   "execution_count": 13,
   "id": "0f0660b8",
   "metadata": {},
   "outputs": [],
   "source": [
    "# Documentos en formato texto para TF/TF-IDF\n",
    "prep_texts = preprocessed_df['prep_doc'].tolist()"
   ]
  },
  {
   "cell_type": "code",
   "execution_count": 14,
   "id": "e759fbcb",
   "metadata": {},
   "outputs": [],
   "source": [
    "# Documentos tokenizados para BM25\n",
    "prep_tokens = preprocessed_df['lemmas'].tolist()"
   ]
  },
  {
   "cell_type": "markdown",
   "id": "4dadb390",
   "metadata": {},
   "source": [
    "Contruccion de indices en TF-IDF"
   ]
  },
  {
   "cell_type": "code",
   "execution_count": 18,
   "id": "a8863bf2",
   "metadata": {},
   "outputs": [],
   "source": [
    "from sklearn.feature_extraction.text import CountVectorizer, TfidfVectorizer\n",
    "from sklearn.metrics.pairwise import cosine_similarity\n",
    "#from src.perf_metrics import execute_time\n",
    "\n",
    "import numpy as np\n",
    "from rank_bm25 import BM25Okapi"
   ]
  },
  {
   "cell_type": "code",
   "execution_count": null,
   "id": "08f86d1a",
   "metadata": {},
   "outputs": [],
   "source": [
    "tfidf_vectorizer = TfidfVectorizer()\n",
    "tfidf_matrix = tfidf_vectorizer.fit_transform(prep_texts)\n"
   ]
  },
  {
   "cell_type": "code",
   "execution_count": 53,
   "id": "5f3d6dbf",
   "metadata": {},
   "outputs": [],
   "source": [
    "def search_tfidf(query, top_k=10):\n",
    "    clean_query, _ = preprocess_both(query)\n",
    "    query_vec = tfidf_vectorizer.transform([clean_query])\n",
    "    scores = cosine_similarity(tfidf_matrix, query_vec).flatten()\n",
    "    top_indices = scores.argsort()[::-1][:top_k]\n",
    "\n",
    "    results = []\n",
    "    print(f\"\\n🔹 TF-IDF results for: '{query}'\\n\")\n",
    "    for i, idx in enumerate(top_indices):\n",
    "        title = df.iloc[idx]['title']\n",
    "        abstract = df.iloc[idx]['abstract']\n",
    "        abstract_snippet = abstract[:300].strip().replace('\\n', ' ')\n",
    "        print(f\"{i+1}. [{idx}] {title}\\n{abstract_snippet}\\n\")\n",
    "\n",
    "        results.append({\n",
    "            \"index\": idx,\n",
    "            \"title\": title,\n",
    "            \"abstract\": abstract\n",
    "        })\n",
    "\n",
    "    return top_indices.tolist(), results\n",
    "\n"
   ]
  },
  {
   "cell_type": "markdown",
   "id": "349e433d",
   "metadata": {},
   "source": [
    "Indices de BM25"
   ]
  },
  {
   "cell_type": "code",
   "execution_count": null,
   "id": "b19d060d",
   "metadata": {},
   "outputs": [],
   "source": [
    "bm25_model = BM25Okapi(prep_tokens)\n"
   ]
  },
  {
   "cell_type": "code",
   "execution_count": 58,
   "id": "0152ac43",
   "metadata": {},
   "outputs": [],
   "source": [
    "def search_bm25(query, top_k=10):\n",
    "    _, query_tokens = preprocess_both(query)\n",
    "    scores = bm25_model.get_scores(query_tokens)\n",
    "    top_indices = np.argsort(scores)[::-1][:top_k]\n",
    "\n",
    "    results = []\n",
    "    print(f\"\\n🔹 BM25 results for: '{query}'\\n\")\n",
    "    for i, idx in enumerate(top_indices):\n",
    "        title = df.iloc[idx]['title']\n",
    "        abstract = df.iloc[idx]['abstract']\n",
    "        abstract_snippet = abstract[:300].strip().replace('\\n', ' ')\n",
    "        print(f\"{i+1}. [{idx}] {title}\\n{abstract_snippet}\\n\")\n",
    "\n",
    "        results.append({\n",
    "            \"index\": idx,\n",
    "            \"title\": title,\n",
    "            \"abstract\": abstract\n",
    "        })\n",
    "\n",
    "    return top_indices.tolist(), results\n"
   ]
  },
  {
   "cell_type": "markdown",
   "id": "c840aa05",
   "metadata": {},
   "source": [
    "FAISS"
   ]
  },
  {
   "cell_type": "code",
   "execution_count": 22,
   "id": "d5d9fcab",
   "metadata": {},
   "outputs": [
    {
     "name": "stderr",
     "output_type": "stream",
     "text": [
      "c:\\Users\\cesar\\AppData\\Local\\Programs\\Python\\Python311\\Lib\\site-packages\\tqdm\\auto.py:21: TqdmWarning: IProgress not found. Please update jupyter and ipywidgets. See https://ipywidgets.readthedocs.io/en/stable/user_install.html\n",
      "  from .autonotebook import tqdm as notebook_tqdm\n"
     ]
    }
   ],
   "source": [
    "\n",
    "import faiss\n",
    "from sentence_transformers import SentenceTransformer\n",
    "import numpy as np"
   ]
  },
  {
   "cell_type": "code",
   "execution_count": null,
   "id": "f3759d9c",
   "metadata": {},
   "outputs": [],
   "source": [
    "\n",
    "model = SentenceTransformer('all-MiniLM-L6-v2')  \n",
    "\n",
    "\n",
    "embeddings = model.encode(prep_texts, convert_to_numpy=True)\n",
    "\n",
    "\n",
    "dimension = embeddings.shape[1]\n",
    "index = faiss.IndexFlatL2(dimension)\n",
    "index.add(embeddings) "
   ]
  },
  {
   "cell_type": "code",
   "execution_count": 60,
   "id": "6aa04ed5",
   "metadata": {},
   "outputs": [],
   "source": [
    "def search_faiss(query, top_k=10):\n",
    "    clean_query, _ = preprocess_both(query)\n",
    "    query_vec = model.encode([clean_query], convert_to_numpy=True)\n",
    "    distances, indices = index.search(query_vec, top_k)\n",
    "\n",
    "    results = []\n",
    "    print(f\"\\n🔹 FAISS results for: '{query}'\\n\")\n",
    "    for i, idx in enumerate(indices[0]):\n",
    "        title = df.iloc[idx]['title']\n",
    "        abstract = df.iloc[idx]['abstract']\n",
    "        abstract_snippet = abstract[:300].strip().replace('\\n', ' ')\n",
    "        print(f\"{i+1}. [{idx}] {title}\\n{abstract_snippet}\\n\")\n",
    "\n",
    "        results.append({\n",
    "            \"index\": idx,\n",
    "            \"title\": title,\n",
    "            \"abstract\": abstract\n",
    "        })\n",
    "\n",
    "    return indices[0].tolist(), results\n"
   ]
  },
  {
   "cell_type": "markdown",
   "id": "358cfd2e",
   "metadata": {},
   "source": [
    "Recuperacion"
   ]
  },
  {
   "cell_type": "code",
   "execution_count": 77,
   "id": "e1da8405",
   "metadata": {},
   "outputs": [],
   "source": [
    "query = \"Sparsity-certifying Graph Decompositions\""
   ]
  },
  {
   "cell_type": "code",
   "execution_count": 78,
   "id": "973b6cd2",
   "metadata": {},
   "outputs": [
    {
     "name": "stdout",
     "output_type": "stream",
     "text": [
      "\n",
      "🔹 TF-IDF results for: 'Sparsity-certifying Graph Decompositions'\n",
      "\n",
      "1. [1] Sparsity-certifying Graph Decompositions\n",
      "We describe a new algorithm, the $(k,\\ell)$-pebble game with colors, and use it obtain a characterization of the family of $(k,\\ell)$-sparse graphs and algorithmic solutions to a family of problems concerning tree decompositions of graphs. Special instances of sparse graphs appear in rigidity theo\n",
      "\n",
      "2. [4] From dyadic $\\Lambda_{\\alpha}$ to $\\Lambda_{\\alpha}$\n",
      "In this paper we show how to compute the $\\Lambda_{\\alpha}$ norm, $\\alpha\\ge 0$, using the dyadic grid. This result is a consequence of the description of the Hardy spaces $H^p(R^N)$ in terms of dyadic and special atoms.\n",
      "\n",
      "3. [3] A determinant of Stirling cycle numbers counts unlabeled acyclic\n",
      "  single-source automata\n",
      "We show that a determinant of Stirling cycle numbers counts unlabeled acyclic single-source automata. The proof involves a bijection from these automata to certain marked lattice paths and a sign-reversing involution to evaluate the determinant.\n",
      "\n",
      "4. [2] The evolution of the Earth-Moon system based on the dark matter field\n",
      "  fluid model\n",
      "The evolution of Earth-Moon system is described by the dark matter field fluid model proposed in the Meeting of Division of Particle and Field 2004, American Physical Society. The current behavior of the Earth-Moon system agrees with this model very well and the general pattern of the evolution of\n",
      "\n",
      "5. [0] Calculation of prompt diphoton production cross sections at Tevatron and\n",
      "  LHC energies\n",
      "A fully differential calculation in perturbative quantum chromodynamics is presented for the production of massive photon pairs at hadron colliders. All next-to-leading order perturbative contributions from quark-antiquark, gluon-(anti)quark, and gluon-gluon subprocesses are included, as well as a\n",
      "\n"
     ]
    },
    {
     "data": {
      "text/plain": [
       "([1, 4, 3, 2, 0],\n",
       " [{'index': np.int64(1),\n",
       "   'title': 'Sparsity-certifying Graph Decompositions',\n",
       "   'abstract': '  We describe a new algorithm, the $(k,\\\\ell)$-pebble game with colors, and use\\nit obtain a characterization of the family of $(k,\\\\ell)$-sparse graphs and\\nalgorithmic solutions to a family of problems concerning tree decompositions of\\ngraphs. Special instances of sparse graphs appear in rigidity theory and have\\nreceived increased attention in recent years. In particular, our colored\\npebbles generalize and strengthen the previous results of Lee and Streinu and\\ngive a new proof of the Tutte-Nash-Williams characterization of arboricity. We\\nalso present a new decomposition that certifies sparsity based on the\\n$(k,\\\\ell)$-pebble game with colors. Our work also exposes connections between\\npebble game algorithms and previous sparse graph algorithms by Gabow, Gabow and\\nWestermann and Hendrickson.\\n'},\n",
       "  {'index': np.int64(4),\n",
       "   'title': 'From dyadic $\\\\Lambda_{\\\\alpha}$ to $\\\\Lambda_{\\\\alpha}$',\n",
       "   'abstract': '  In this paper we show how to compute the $\\\\Lambda_{\\\\alpha}$ norm, $\\\\alpha\\\\ge\\n0$, using the dyadic grid. This result is a consequence of the description of\\nthe Hardy spaces $H^p(R^N)$ in terms of dyadic and special atoms.\\n'},\n",
       "  {'index': np.int64(3),\n",
       "   'title': 'A determinant of Stirling cycle numbers counts unlabeled acyclic\\n  single-source automata',\n",
       "   'abstract': '  We show that a determinant of Stirling cycle numbers counts unlabeled acyclic\\nsingle-source automata. The proof involves a bijection from these automata to\\ncertain marked lattice paths and a sign-reversing involution to evaluate the\\ndeterminant.\\n'},\n",
       "  {'index': np.int64(2),\n",
       "   'title': 'The evolution of the Earth-Moon system based on the dark matter field\\n  fluid model',\n",
       "   'abstract': \"  The evolution of Earth-Moon system is described by the dark matter field\\nfluid model proposed in the Meeting of Division of Particle and Field 2004,\\nAmerican Physical Society. The current behavior of the Earth-Moon system agrees\\nwith this model very well and the general pattern of the evolution of the\\nMoon-Earth system described by this model agrees with geological and fossil\\nevidence. The closest distance of the Moon to Earth was about 259000 km at 4.5\\nbillion years ago, which is far beyond the Roche's limit. The result suggests\\nthat the tidal friction may not be the primary cause for the evolution of the\\nEarth-Moon system. The average dark matter field fluid constant derived from\\nEarth-Moon system data is 4.39 x 10^(-22) s^(-1)m^(-1). This model predicts\\nthat the Mars's rotation is also slowing with the angular acceleration rate\\nabout -4.38 x 10^(-22) rad s^(-2).\\n\"},\n",
       "  {'index': np.int64(0),\n",
       "   'title': 'Calculation of prompt diphoton production cross sections at Tevatron and\\n  LHC energies',\n",
       "   'abstract': '  A fully differential calculation in perturbative quantum chromodynamics is\\npresented for the production of massive photon pairs at hadron colliders. All\\nnext-to-leading order perturbative contributions from quark-antiquark,\\ngluon-(anti)quark, and gluon-gluon subprocesses are included, as well as\\nall-orders resummation of initial-state gluon radiation valid at\\nnext-to-next-to-leading logarithmic accuracy. The region of phase space is\\nspecified in which the calculation is most reliable. Good agreement is\\ndemonstrated with data from the Fermilab Tevatron, and predictions are made for\\nmore detailed tests with CDF and DO data. Predictions are shown for\\ndistributions of diphoton pairs produced at the energy of the Large Hadron\\nCollider (LHC). Distributions of the diphoton pairs from the decay of a Higgs\\nboson are contrasted with those produced from QCD processes at the LHC, showing\\nthat enhanced sensitivity to the signal can be obtained with judicious\\nselection of events.\\n'}])"
      ]
     },
     "execution_count": 78,
     "metadata": {},
     "output_type": "execute_result"
    }
   ],
   "source": [
    "search_tfidf(query, top_k=10)\n",
    "\n"
   ]
  },
  {
   "cell_type": "code",
   "execution_count": 61,
   "id": "53c6f212",
   "metadata": {},
   "outputs": [
    {
     "name": "stdout",
     "output_type": "stream",
     "text": [
      "\n",
      "🔹 BM25 results for: 'machine learning'\n",
      "\n",
      "1. [4] From dyadic $\\Lambda_{\\alpha}$ to $\\Lambda_{\\alpha}$\n",
      "In this paper we show how to compute the $\\Lambda_{\\alpha}$ norm, $\\alpha\\ge 0$, using the dyadic grid. This result is a consequence of the description of the Hardy spaces $H^p(R^N)$ in terms of dyadic and special atoms.\n",
      "\n",
      "2. [3] A determinant of Stirling cycle numbers counts unlabeled acyclic\n",
      "  single-source automata\n",
      "We show that a determinant of Stirling cycle numbers counts unlabeled acyclic single-source automata. The proof involves a bijection from these automata to certain marked lattice paths and a sign-reversing involution to evaluate the determinant.\n",
      "\n",
      "3. [2] The evolution of the Earth-Moon system based on the dark matter field\n",
      "  fluid model\n",
      "The evolution of Earth-Moon system is described by the dark matter field fluid model proposed in the Meeting of Division of Particle and Field 2004, American Physical Society. The current behavior of the Earth-Moon system agrees with this model very well and the general pattern of the evolution of\n",
      "\n",
      "4. [1] Sparsity-certifying Graph Decompositions\n",
      "We describe a new algorithm, the $(k,\\ell)$-pebble game with colors, and use it obtain a characterization of the family of $(k,\\ell)$-sparse graphs and algorithmic solutions to a family of problems concerning tree decompositions of graphs. Special instances of sparse graphs appear in rigidity theo\n",
      "\n",
      "5. [0] Calculation of prompt diphoton production cross sections at Tevatron and\n",
      "  LHC energies\n",
      "A fully differential calculation in perturbative quantum chromodynamics is presented for the production of massive photon pairs at hadron colliders. All next-to-leading order perturbative contributions from quark-antiquark, gluon-(anti)quark, and gluon-gluon subprocesses are included, as well as a\n",
      "\n"
     ]
    },
    {
     "data": {
      "text/plain": [
       "([4, 3, 2, 1, 0],\n",
       " [{'index': np.int64(4),\n",
       "   'title': 'From dyadic $\\\\Lambda_{\\\\alpha}$ to $\\\\Lambda_{\\\\alpha}$',\n",
       "   'abstract': '  In this paper we show how to compute the $\\\\Lambda_{\\\\alpha}$ norm, $\\\\alpha\\\\ge\\n0$, using the dyadic grid. This result is a consequence of the description of\\nthe Hardy spaces $H^p(R^N)$ in terms of dyadic and special atoms.\\n'},\n",
       "  {'index': np.int64(3),\n",
       "   'title': 'A determinant of Stirling cycle numbers counts unlabeled acyclic\\n  single-source automata',\n",
       "   'abstract': '  We show that a determinant of Stirling cycle numbers counts unlabeled acyclic\\nsingle-source automata. The proof involves a bijection from these automata to\\ncertain marked lattice paths and a sign-reversing involution to evaluate the\\ndeterminant.\\n'},\n",
       "  {'index': np.int64(2),\n",
       "   'title': 'The evolution of the Earth-Moon system based on the dark matter field\\n  fluid model',\n",
       "   'abstract': \"  The evolution of Earth-Moon system is described by the dark matter field\\nfluid model proposed in the Meeting of Division of Particle and Field 2004,\\nAmerican Physical Society. The current behavior of the Earth-Moon system agrees\\nwith this model very well and the general pattern of the evolution of the\\nMoon-Earth system described by this model agrees with geological and fossil\\nevidence. The closest distance of the Moon to Earth was about 259000 km at 4.5\\nbillion years ago, which is far beyond the Roche's limit. The result suggests\\nthat the tidal friction may not be the primary cause for the evolution of the\\nEarth-Moon system. The average dark matter field fluid constant derived from\\nEarth-Moon system data is 4.39 x 10^(-22) s^(-1)m^(-1). This model predicts\\nthat the Mars's rotation is also slowing with the angular acceleration rate\\nabout -4.38 x 10^(-22) rad s^(-2).\\n\"},\n",
       "  {'index': np.int64(1),\n",
       "   'title': 'Sparsity-certifying Graph Decompositions',\n",
       "   'abstract': '  We describe a new algorithm, the $(k,\\\\ell)$-pebble game with colors, and use\\nit obtain a characterization of the family of $(k,\\\\ell)$-sparse graphs and\\nalgorithmic solutions to a family of problems concerning tree decompositions of\\ngraphs. Special instances of sparse graphs appear in rigidity theory and have\\nreceived increased attention in recent years. In particular, our colored\\npebbles generalize and strengthen the previous results of Lee and Streinu and\\ngive a new proof of the Tutte-Nash-Williams characterization of arboricity. We\\nalso present a new decomposition that certifies sparsity based on the\\n$(k,\\\\ell)$-pebble game with colors. Our work also exposes connections between\\npebble game algorithms and previous sparse graph algorithms by Gabow, Gabow and\\nWestermann and Hendrickson.\\n'},\n",
       "  {'index': np.int64(0),\n",
       "   'title': 'Calculation of prompt diphoton production cross sections at Tevatron and\\n  LHC energies',\n",
       "   'abstract': '  A fully differential calculation in perturbative quantum chromodynamics is\\npresented for the production of massive photon pairs at hadron colliders. All\\nnext-to-leading order perturbative contributions from quark-antiquark,\\ngluon-(anti)quark, and gluon-gluon subprocesses are included, as well as\\nall-orders resummation of initial-state gluon radiation valid at\\nnext-to-next-to-leading logarithmic accuracy. The region of phase space is\\nspecified in which the calculation is most reliable. Good agreement is\\ndemonstrated with data from the Fermilab Tevatron, and predictions are made for\\nmore detailed tests with CDF and DO data. Predictions are shown for\\ndistributions of diphoton pairs produced at the energy of the Large Hadron\\nCollider (LHC). Distributions of the diphoton pairs from the decay of a Higgs\\nboson are contrasted with those produced from QCD processes at the LHC, showing\\nthat enhanced sensitivity to the signal can be obtained with judicious\\nselection of events.\\n'}])"
      ]
     },
     "execution_count": 61,
     "metadata": {},
     "output_type": "execute_result"
    }
   ],
   "source": [
    "search_bm25(query, top_k=10)\n"
   ]
  },
  {
   "cell_type": "code",
   "execution_count": 62,
   "id": "f1dd1166",
   "metadata": {},
   "outputs": [
    {
     "name": "stdout",
     "output_type": "stream",
     "text": [
      "\n",
      "🔹 FAISS results for: 'machine learning'\n",
      "\n",
      "1. [1] Sparsity-certifying Graph Decompositions\n",
      "We describe a new algorithm, the $(k,\\ell)$-pebble game with colors, and use it obtain a characterization of the family of $(k,\\ell)$-sparse graphs and algorithmic solutions to a family of problems concerning tree decompositions of graphs. Special instances of sparse graphs appear in rigidity theo\n",
      "\n",
      "2. [0] Calculation of prompt diphoton production cross sections at Tevatron and\n",
      "  LHC energies\n",
      "A fully differential calculation in perturbative quantum chromodynamics is presented for the production of massive photon pairs at hadron colliders. All next-to-leading order perturbative contributions from quark-antiquark, gluon-(anti)quark, and gluon-gluon subprocesses are included, as well as a\n",
      "\n",
      "3. [2] The evolution of the Earth-Moon system based on the dark matter field\n",
      "  fluid model\n",
      "The evolution of Earth-Moon system is described by the dark matter field fluid model proposed in the Meeting of Division of Particle and Field 2004, American Physical Society. The current behavior of the Earth-Moon system agrees with this model very well and the general pattern of the evolution of\n",
      "\n",
      "4. [4] From dyadic $\\Lambda_{\\alpha}$ to $\\Lambda_{\\alpha}$\n",
      "In this paper we show how to compute the $\\Lambda_{\\alpha}$ norm, $\\alpha\\ge 0$, using the dyadic grid. This result is a consequence of the description of the Hardy spaces $H^p(R^N)$ in terms of dyadic and special atoms.\n",
      "\n",
      "5. [3] A determinant of Stirling cycle numbers counts unlabeled acyclic\n",
      "  single-source automata\n",
      "We show that a determinant of Stirling cycle numbers counts unlabeled acyclic single-source automata. The proof involves a bijection from these automata to certain marked lattice paths and a sign-reversing involution to evaluate the determinant.\n",
      "\n",
      "6. [-1] Ginzburg Landau theory for d-wave pairing and fourfold symmetric vortex\n",
      "  core structure\n",
      "The Ginzburg Landau theory for d_{x^2-y^2}-wave superconductors is constructed, by starting from the Gor'kov equation with including correction terms up to the next order of ln(T_c/T). Some of the non-local correction terms are found to break the cylindrical symmetry and lead to the fourfold symme\n",
      "\n",
      "7. [-1] Ginzburg Landau theory for d-wave pairing and fourfold symmetric vortex\n",
      "  core structure\n",
      "The Ginzburg Landau theory for d_{x^2-y^2}-wave superconductors is constructed, by starting from the Gor'kov equation with including correction terms up to the next order of ln(T_c/T). Some of the non-local correction terms are found to break the cylindrical symmetry and lead to the fourfold symme\n",
      "\n",
      "8. [-1] Ginzburg Landau theory for d-wave pairing and fourfold symmetric vortex\n",
      "  core structure\n",
      "The Ginzburg Landau theory for d_{x^2-y^2}-wave superconductors is constructed, by starting from the Gor'kov equation with including correction terms up to the next order of ln(T_c/T). Some of the non-local correction terms are found to break the cylindrical symmetry and lead to the fourfold symme\n",
      "\n",
      "9. [-1] Ginzburg Landau theory for d-wave pairing and fourfold symmetric vortex\n",
      "  core structure\n",
      "The Ginzburg Landau theory for d_{x^2-y^2}-wave superconductors is constructed, by starting from the Gor'kov equation with including correction terms up to the next order of ln(T_c/T). Some of the non-local correction terms are found to break the cylindrical symmetry and lead to the fourfold symme\n",
      "\n",
      "10. [-1] Ginzburg Landau theory for d-wave pairing and fourfold symmetric vortex\n",
      "  core structure\n",
      "The Ginzburg Landau theory for d_{x^2-y^2}-wave superconductors is constructed, by starting from the Gor'kov equation with including correction terms up to the next order of ln(T_c/T). Some of the non-local correction terms are found to break the cylindrical symmetry and lead to the fourfold symme\n",
      "\n"
     ]
    },
    {
     "data": {
      "text/plain": [
       "([1, 0, 2, 4, 3, -1, -1, -1, -1, -1],\n",
       " [{'index': np.int64(1),\n",
       "   'title': 'Sparsity-certifying Graph Decompositions',\n",
       "   'abstract': '  We describe a new algorithm, the $(k,\\\\ell)$-pebble game with colors, and use\\nit obtain a characterization of the family of $(k,\\\\ell)$-sparse graphs and\\nalgorithmic solutions to a family of problems concerning tree decompositions of\\ngraphs. Special instances of sparse graphs appear in rigidity theory and have\\nreceived increased attention in recent years. In particular, our colored\\npebbles generalize and strengthen the previous results of Lee and Streinu and\\ngive a new proof of the Tutte-Nash-Williams characterization of arboricity. We\\nalso present a new decomposition that certifies sparsity based on the\\n$(k,\\\\ell)$-pebble game with colors. Our work also exposes connections between\\npebble game algorithms and previous sparse graph algorithms by Gabow, Gabow and\\nWestermann and Hendrickson.\\n'},\n",
       "  {'index': np.int64(0),\n",
       "   'title': 'Calculation of prompt diphoton production cross sections at Tevatron and\\n  LHC energies',\n",
       "   'abstract': '  A fully differential calculation in perturbative quantum chromodynamics is\\npresented for the production of massive photon pairs at hadron colliders. All\\nnext-to-leading order perturbative contributions from quark-antiquark,\\ngluon-(anti)quark, and gluon-gluon subprocesses are included, as well as\\nall-orders resummation of initial-state gluon radiation valid at\\nnext-to-next-to-leading logarithmic accuracy. The region of phase space is\\nspecified in which the calculation is most reliable. Good agreement is\\ndemonstrated with data from the Fermilab Tevatron, and predictions are made for\\nmore detailed tests with CDF and DO data. Predictions are shown for\\ndistributions of diphoton pairs produced at the energy of the Large Hadron\\nCollider (LHC). Distributions of the diphoton pairs from the decay of a Higgs\\nboson are contrasted with those produced from QCD processes at the LHC, showing\\nthat enhanced sensitivity to the signal can be obtained with judicious\\nselection of events.\\n'},\n",
       "  {'index': np.int64(2),\n",
       "   'title': 'The evolution of the Earth-Moon system based on the dark matter field\\n  fluid model',\n",
       "   'abstract': \"  The evolution of Earth-Moon system is described by the dark matter field\\nfluid model proposed in the Meeting of Division of Particle and Field 2004,\\nAmerican Physical Society. The current behavior of the Earth-Moon system agrees\\nwith this model very well and the general pattern of the evolution of the\\nMoon-Earth system described by this model agrees with geological and fossil\\nevidence. The closest distance of the Moon to Earth was about 259000 km at 4.5\\nbillion years ago, which is far beyond the Roche's limit. The result suggests\\nthat the tidal friction may not be the primary cause for the evolution of the\\nEarth-Moon system. The average dark matter field fluid constant derived from\\nEarth-Moon system data is 4.39 x 10^(-22) s^(-1)m^(-1). This model predicts\\nthat the Mars's rotation is also slowing with the angular acceleration rate\\nabout -4.38 x 10^(-22) rad s^(-2).\\n\"},\n",
       "  {'index': np.int64(4),\n",
       "   'title': 'From dyadic $\\\\Lambda_{\\\\alpha}$ to $\\\\Lambda_{\\\\alpha}$',\n",
       "   'abstract': '  In this paper we show how to compute the $\\\\Lambda_{\\\\alpha}$ norm, $\\\\alpha\\\\ge\\n0$, using the dyadic grid. This result is a consequence of the description of\\nthe Hardy spaces $H^p(R^N)$ in terms of dyadic and special atoms.\\n'},\n",
       "  {'index': np.int64(3),\n",
       "   'title': 'A determinant of Stirling cycle numbers counts unlabeled acyclic\\n  single-source automata',\n",
       "   'abstract': '  We show that a determinant of Stirling cycle numbers counts unlabeled acyclic\\nsingle-source automata. The proof involves a bijection from these automata to\\ncertain marked lattice paths and a sign-reversing involution to evaluate the\\ndeterminant.\\n'},\n",
       "  {'index': np.int64(-1),\n",
       "   'title': 'Ginzburg Landau theory for d-wave pairing and fourfold symmetric vortex\\n  core structure',\n",
       "   'abstract': \"  The Ginzburg Landau theory for d_{x^2-y^2}-wave superconductors is\\nconstructed, by starting from the Gor'kov equation with including correction\\nterms up to the next order of ln(T_c/T). Some of the non-local correction terms\\nare found to break the cylindrical symmetry and lead to the fourfold symmetric\\ncore structure, reflecting the internal degree of freedom in the pair\\npotential. Using this extended Ginzburg Landau theory, we investigate the\\nfourfold symmetric structure of the pair potential, current and magnetic field\\naround an isolated single vortex, and clarify concretely how the vortex core\\nstructure deviates from the cylindrical symmetry in the d_{x^2-y^2}-wave\\nsuperconductors.\\n\"},\n",
       "  {'index': np.int64(-1),\n",
       "   'title': 'Ginzburg Landau theory for d-wave pairing and fourfold symmetric vortex\\n  core structure',\n",
       "   'abstract': \"  The Ginzburg Landau theory for d_{x^2-y^2}-wave superconductors is\\nconstructed, by starting from the Gor'kov equation with including correction\\nterms up to the next order of ln(T_c/T). Some of the non-local correction terms\\nare found to break the cylindrical symmetry and lead to the fourfold symmetric\\ncore structure, reflecting the internal degree of freedom in the pair\\npotential. Using this extended Ginzburg Landau theory, we investigate the\\nfourfold symmetric structure of the pair potential, current and magnetic field\\naround an isolated single vortex, and clarify concretely how the vortex core\\nstructure deviates from the cylindrical symmetry in the d_{x^2-y^2}-wave\\nsuperconductors.\\n\"},\n",
       "  {'index': np.int64(-1),\n",
       "   'title': 'Ginzburg Landau theory for d-wave pairing and fourfold symmetric vortex\\n  core structure',\n",
       "   'abstract': \"  The Ginzburg Landau theory for d_{x^2-y^2}-wave superconductors is\\nconstructed, by starting from the Gor'kov equation with including correction\\nterms up to the next order of ln(T_c/T). Some of the non-local correction terms\\nare found to break the cylindrical symmetry and lead to the fourfold symmetric\\ncore structure, reflecting the internal degree of freedom in the pair\\npotential. Using this extended Ginzburg Landau theory, we investigate the\\nfourfold symmetric structure of the pair potential, current and magnetic field\\naround an isolated single vortex, and clarify concretely how the vortex core\\nstructure deviates from the cylindrical symmetry in the d_{x^2-y^2}-wave\\nsuperconductors.\\n\"},\n",
       "  {'index': np.int64(-1),\n",
       "   'title': 'Ginzburg Landau theory for d-wave pairing and fourfold symmetric vortex\\n  core structure',\n",
       "   'abstract': \"  The Ginzburg Landau theory for d_{x^2-y^2}-wave superconductors is\\nconstructed, by starting from the Gor'kov equation with including correction\\nterms up to the next order of ln(T_c/T). Some of the non-local correction terms\\nare found to break the cylindrical symmetry and lead to the fourfold symmetric\\ncore structure, reflecting the internal degree of freedom in the pair\\npotential. Using this extended Ginzburg Landau theory, we investigate the\\nfourfold symmetric structure of the pair potential, current and magnetic field\\naround an isolated single vortex, and clarify concretely how the vortex core\\nstructure deviates from the cylindrical symmetry in the d_{x^2-y^2}-wave\\nsuperconductors.\\n\"},\n",
       "  {'index': np.int64(-1),\n",
       "   'title': 'Ginzburg Landau theory for d-wave pairing and fourfold symmetric vortex\\n  core structure',\n",
       "   'abstract': \"  The Ginzburg Landau theory for d_{x^2-y^2}-wave superconductors is\\nconstructed, by starting from the Gor'kov equation with including correction\\nterms up to the next order of ln(T_c/T). Some of the non-local correction terms\\nare found to break the cylindrical symmetry and lead to the fourfold symmetric\\ncore structure, reflecting the internal degree of freedom in the pair\\npotential. Using this extended Ginzburg Landau theory, we investigate the\\nfourfold symmetric structure of the pair potential, current and magnetic field\\naround an isolated single vortex, and clarify concretely how the vortex core\\nstructure deviates from the cylindrical symmetry in the d_{x^2-y^2}-wave\\nsuperconductors.\\n\"}])"
      ]
     },
     "execution_count": 62,
     "metadata": {},
     "output_type": "execute_result"
    }
   ],
   "source": [
    "search_faiss(query, top_k=10)"
   ]
  },
  {
   "cell_type": "markdown",
   "id": "284f730d",
   "metadata": {},
   "source": [
    "RETRIEVAL AUMENTED GENERATION"
   ]
  },
  {
   "cell_type": "code",
   "execution_count": 92,
   "id": "d3dbed7a",
   "metadata": {},
   "outputs": [],
   "source": [
    "from dotenv import load_dotenv\n",
    "from openai import OpenAI\n",
    "import os"
   ]
  },
  {
   "cell_type": "code",
   "execution_count": 93,
   "id": "08f025d6",
   "metadata": {},
   "outputs": [],
   "source": [
    "# Cargar las variables de entorno desde el archivo .env\n",
    "load_dotenv()\n",
    "# Objeto tipo cliente de OpenAi\n",
    "api_key = os.getenv(\"CHATGPT_API_KEY\")\n",
    "client = OpenAI(api_key=api_key)"
   ]
  },
  {
   "cell_type": "code",
   "execution_count": 94,
   "id": "b391a636",
   "metadata": {},
   "outputs": [
    {
     "name": "stdout",
     "output_type": "stream",
     "text": [
      "\n",
      "🔹 TF-IDF results for: 'Sparsity-certifying Graph Decompositions'\n",
      "\n",
      "1. [1] Sparsity-certifying Graph Decompositions\n",
      "We describe a new algorithm, the $(k,\\ell)$-pebble game with colors, and use it obtain a characterization of the family of $(k,\\ell)$-sparse graphs and algorithmic solutions to a family of problems concerning tree decompositions of graphs. Special instances of sparse graphs appear in rigidity theo\n",
      "\n",
      "2. [4] From dyadic $\\Lambda_{\\alpha}$ to $\\Lambda_{\\alpha}$\n",
      "In this paper we show how to compute the $\\Lambda_{\\alpha}$ norm, $\\alpha\\ge 0$, using the dyadic grid. This result is a consequence of the description of the Hardy spaces $H^p(R^N)$ in terms of dyadic and special atoms.\n",
      "\n",
      "3. [3] A determinant of Stirling cycle numbers counts unlabeled acyclic\n",
      "  single-source automata\n",
      "We show that a determinant of Stirling cycle numbers counts unlabeled acyclic single-source automata. The proof involves a bijection from these automata to certain marked lattice paths and a sign-reversing involution to evaluate the determinant.\n",
      "\n",
      "🔹 Contexto generado para LLM:\n",
      "\n",
      "Sparsity-certifying Graph Decompositions\n",
      "  We describe a new algorithm, the $(k,\\ell)$-pebble game with colors, and use\n",
      "it obtain a characterization of the family of $(k,\\ell)$-sparse graphs and\n",
      "algorithmic solutions to a family of problems concerning tree decompositions of\n",
      "graphs. Special instances of sparse graphs appear in rigidity theory and have\n",
      "received increased attention in recent years. In particular, our colored\n",
      "pebbles generalize and strengthen the previous results of Lee and Streinu and\n",
      "give a new proof of the Tutte-Nash-Williams characterization of arboricity. We\n",
      "also present a new decomposition that certifies sparsity based on the\n",
      "$(k,\\ell)$-pebble game with colors. Our work also exposes connections between\n",
      "pebble game algorithms and previous sparse graph algorithms by Gabow, Gabow and\n",
      "Westermann and Hendrickson.\n",
      "\n",
      "\n",
      "---\n",
      "\n",
      "From dyadic $\\Lambda_{\\alpha}$ to $\\Lambda_{\\alpha}$\n",
      "  In this paper we show how to compute the $\\Lambda_{\\alpha}$ norm, $\\alpha\\ge\n",
      "0$, using the dyadic grid. This result is a consequence of the description of\n",
      "the Hardy spaces $H^p(R^N)$ in terms of dyadic and special atoms.\n",
      "\n",
      "\n",
      "---\n",
      "\n",
      "A determinant of Stirling cycle numbers counts unlabeled acyclic\n",
      "  single-source automata\n",
      "  We show that a determinant of Stirling cycle numbers counts unlabeled acyclic\n",
      "single-source automata. The proof involves a bijection from these automata to\n",
      "certain marked lattice paths and a sign-reversing involution to evaluate the\n",
      "determinant.\n",
      "\n"
     ]
    }
   ],
   "source": [
    "indices, context_items = search_tfidf(query, top_k=3)\n",
    "context_tfidf = \"\\n\\n---\\n\\n\".join(\n",
    "    f\"{item['title']}\\n{item['abstract']}\" for item in context_items\n",
    ")\n",
    "\n",
    "print(\"🔹 Contexto generado para LLM:\\n\")\n",
    "print(context_tfidf)\n"
   ]
  },
  {
   "cell_type": "markdown",
   "id": "881c5589",
   "metadata": {},
   "source": [
    "Contexto BM25"
   ]
  },
  {
   "cell_type": "code",
   "execution_count": 95,
   "id": "5e9612af",
   "metadata": {},
   "outputs": [
    {
     "name": "stdout",
     "output_type": "stream",
     "text": [
      "\n",
      "🔹 BM25 results for: 'Sparsity-certifying Graph Decompositions'\n",
      "\n",
      "1. [1] Sparsity-certifying Graph Decompositions\n",
      "We describe a new algorithm, the $(k,\\ell)$-pebble game with colors, and use it obtain a characterization of the family of $(k,\\ell)$-sparse graphs and algorithmic solutions to a family of problems concerning tree decompositions of graphs. Special instances of sparse graphs appear in rigidity theo\n",
      "\n",
      "2. [4] From dyadic $\\Lambda_{\\alpha}$ to $\\Lambda_{\\alpha}$\n",
      "In this paper we show how to compute the $\\Lambda_{\\alpha}$ norm, $\\alpha\\ge 0$, using the dyadic grid. This result is a consequence of the description of the Hardy spaces $H^p(R^N)$ in terms of dyadic and special atoms.\n",
      "\n",
      "3. [3] A determinant of Stirling cycle numbers counts unlabeled acyclic\n",
      "  single-source automata\n",
      "We show that a determinant of Stirling cycle numbers counts unlabeled acyclic single-source automata. The proof involves a bijection from these automata to certain marked lattice paths and a sign-reversing involution to evaluate the determinant.\n",
      "\n",
      "🔹 Contexto BM25 para LLM:\n",
      "\n",
      "Sparsity-certifying Graph Decompositions\n",
      "  We describe a new algorithm, the $(k,\\ell)$-pebble game with colors, and use\n",
      "it obtain a characterization of the family of $(k,\\ell)$-sparse graphs and\n",
      "algorithmic solutions to a family of problems concerning tree decompositions of\n",
      "graphs. Special instances of sparse graphs appear in rigidity theory and have\n",
      "received increased attention in recent years. In particular, our colored\n",
      "pebbles generalize and strengthen the previous results of Lee and Streinu and\n",
      "give a new proof of the Tutte-Nash-Williams characterization of arboricity. We\n",
      "also present a new decomposition that certifies sparsity based on the\n",
      "$(k,\\ell)$-pebble game with colors. Our work also exposes connections between\n",
      "pebble game algorithms and previous sparse graph algorithms by Gabow, Gabow and\n",
      "Westermann and Hendrickson.\n",
      "\n",
      "\n",
      "---\n",
      "\n",
      "From dyadic $\\Lambda_{\\alpha}$ to $\\Lambda_{\\alpha}$\n",
      "  In this paper we show how to compute the $\\Lambda_{\\alpha}$ norm, $\\alpha\\ge\n",
      "0$, using the dyadic grid. This result is a consequence of the description of\n",
      "the Hardy spaces $H^p(R^N)$ in terms of dyadic and special atoms.\n",
      "\n",
      "\n",
      "---\n",
      "\n",
      "A determinant of Stirling cycle numbers counts unlabeled acyclic\n",
      "  single-source automata\n",
      "  We show that a determinant of Stirling cycle numbers counts unlabeled acyclic\n",
      "single-source automata. The proof involves a bijection from these automata to\n",
      "certain marked lattice paths and a sign-reversing involution to evaluate the\n",
      "determinant.\n",
      "\n"
     ]
    }
   ],
   "source": [
    "indices_bm25, context_items_bm25 = search_bm25(query, top_k=3)\n",
    "\n",
    "context_bm25 = \"\\n\\n---\\n\\n\".join(\n",
    "    f\"{item['title']}\\n{item['abstract']}\" for item in context_items_bm25\n",
    ")\n",
    "\n",
    "print(\"🔹 Contexto BM25 para LLM:\\n\")\n",
    "print(context_bm25)\n"
   ]
  },
  {
   "cell_type": "markdown",
   "id": "cd3a0b7b",
   "metadata": {},
   "source": [
    "Contexto FAISS"
   ]
  },
  {
   "cell_type": "code",
   "execution_count": 96,
   "id": "e52bff23",
   "metadata": {},
   "outputs": [
    {
     "name": "stdout",
     "output_type": "stream",
     "text": [
      "\n",
      "🔹 FAISS results for: 'Sparsity-certifying Graph Decompositions'\n",
      "\n",
      "1. [1] Sparsity-certifying Graph Decompositions\n",
      "We describe a new algorithm, the $(k,\\ell)$-pebble game with colors, and use it obtain a characterization of the family of $(k,\\ell)$-sparse graphs and algorithmic solutions to a family of problems concerning tree decompositions of graphs. Special instances of sparse graphs appear in rigidity theo\n",
      "\n",
      "2. [3] A determinant of Stirling cycle numbers counts unlabeled acyclic\n",
      "  single-source automata\n",
      "We show that a determinant of Stirling cycle numbers counts unlabeled acyclic single-source automata. The proof involves a bijection from these automata to certain marked lattice paths and a sign-reversing involution to evaluate the determinant.\n",
      "\n",
      "3. [0] Calculation of prompt diphoton production cross sections at Tevatron and\n",
      "  LHC energies\n",
      "A fully differential calculation in perturbative quantum chromodynamics is presented for the production of massive photon pairs at hadron colliders. All next-to-leading order perturbative contributions from quark-antiquark, gluon-(anti)quark, and gluon-gluon subprocesses are included, as well as a\n",
      "\n",
      "🔹 Contexto FAISS para LLM:\n",
      "\n",
      "Sparsity-certifying Graph Decompositions\n",
      "  We describe a new algorithm, the $(k,\\ell)$-pebble game with colors, and use\n",
      "it obtain a characterization of the family of $(k,\\ell)$-sparse graphs and\n",
      "algorithmic solutions to a family of problems concerning tree decompositions of\n",
      "graphs. Special instances of sparse graphs appear in rigidity theory and have\n",
      "received increased attention in recent years. In particular, our colored\n",
      "pebbles generalize and strengthen the previous results of Lee and Streinu and\n",
      "give a new proof of the Tutte-Nash-Williams characterization of arboricity. We\n",
      "also present a new decomposition that certifies sparsity based on the\n",
      "$(k,\\ell)$-pebble game with colors. Our work also exposes connections between\n",
      "pebble game algorithms and previous sparse graph algorithms by Gabow, Gabow and\n",
      "Westermann and Hendrickson.\n",
      "\n",
      "\n",
      "---\n",
      "\n",
      "A determinant of Stirling cycle numbers counts unlabeled acyclic\n",
      "  single-source automata\n",
      "  We show that a determinant of Stirling cycle numbers counts unlabeled acyclic\n",
      "single-source automata. The proof involves a bijection from these automata to\n",
      "certain marked lattice paths and a sign-reversing involution to evaluate the\n",
      "determinant.\n",
      "\n",
      "\n",
      "---\n",
      "\n",
      "Calculation of prompt diphoton production cross sections at Tevatron and\n",
      "  LHC energies\n",
      "  A fully differential calculation in perturbative quantum chromodynamics is\n",
      "presented for the production of massive photon pairs at hadron colliders. All\n",
      "next-to-leading order perturbative contributions from quark-antiquark,\n",
      "gluon-(anti)quark, and gluon-gluon subprocesses are included, as well as\n",
      "all-orders resummation of initial-state gluon radiation valid at\n",
      "next-to-next-to-leading logarithmic accuracy. The region of phase space is\n",
      "specified in which the calculation is most reliable. Good agreement is\n",
      "demonstrated with data from the Fermilab Tevatron, and predictions are made for\n",
      "more detailed tests with CDF and DO data. Predictions are shown for\n",
      "distributions of diphoton pairs produced at the energy of the Large Hadron\n",
      "Collider (LHC). Distributions of the diphoton pairs from the decay of a Higgs\n",
      "boson are contrasted with those produced from QCD processes at the LHC, showing\n",
      "that enhanced sensitivity to the signal can be obtained with judicious\n",
      "selection of events.\n",
      "\n"
     ]
    }
   ],
   "source": [
    "indices_faiss, context_items_faiss = search_faiss(query, top_k=3)\n",
    "\n",
    "context_faiss = \"\\n\\n---\\n\\n\".join(\n",
    "    f\"{item['title']}\\n{item['abstract']}\" for item in context_items_faiss\n",
    ")\n",
    "\n",
    "print(\"🔹 Contexto FAISS para LLM:\\n\")\n",
    "print(context_faiss)\n"
   ]
  },
  {
   "cell_type": "code",
   "execution_count": 97,
   "id": "a7a65360",
   "metadata": {},
   "outputs": [
    {
     "name": "stdout",
     "output_type": "stream",
     "text": [
      "Sparsity-certifying Graph Decompositions\n",
      "  We describe a new algorithm, the $(k,\\ell)$-pebble game with colors, and use\n",
      "it obtain a characterization of the family of $(k,\\ell)$-sparse graphs and\n",
      "algorithmic solutions to a family of problems concerning tree decompositions of\n",
      "graphs. Special instances of sparse graphs appear in rigidity theory and have\n",
      "received increased attention in recent years. In particular, our colored\n",
      "pebbles generalize and strengthen the previous results of Lee and Streinu and\n",
      "give a new proof of the Tutte-Nash-Williams characterization of arboricity. We\n",
      "also present a new decomposition that certifies sparsity based on the\n",
      "$(k,\\ell)$-pebble game with colors. Our work also exposes connections between\n",
      "pebble game algorithms and previous sparse graph algorithms by Gabow, Gabow and\n",
      "Westermann and Hendrickson.\n",
      "\n",
      "\n",
      "---\n",
      "\n",
      "A determinant of Stirling cycle numbers counts unlabeled acyclic\n",
      "  single-source automata\n",
      "  We show that a determinant of Stirling cycle numbers counts unlabeled acyclic\n",
      "single-source automata. The proof involves a bijection from these automata to\n",
      "certain marked lattice paths and a sign-reversing involution to evaluate the\n",
      "determinant.\n",
      "\n",
      "\n",
      "---\n",
      "\n",
      "Calculation of prompt diphoton production cross sections at Tevatron and\n",
      "  LHC energies\n",
      "  A fully differential calculation in perturbative quantum chromodynamics is\n",
      "presented for the production of massive photon pairs at hadron colliders. All\n",
      "next-to-leading order perturbative contributions from quark-antiquark,\n",
      "gluon-(anti)quark, and gluon-gluon subprocesses are included, as well as\n",
      "all-orders resummation of initial-state gluon radiation valid at\n",
      "next-to-next-to-leading logarithmic accuracy. The region of phase space is\n",
      "specified in which the calculation is most reliable. Good agreement is\n",
      "demonstrated with data from the Fermilab Tevatron, and predictions are made for\n",
      "more detailed tests with CDF and DO data. Predictions are shown for\n",
      "distributions of diphoton pairs produced at the energy of the Large Hadron\n",
      "Collider (LHC). Distributions of the diphoton pairs from the decay of a Higgs\n",
      "boson are contrasted with those produced from QCD processes at the LHC, showing\n",
      "that enhanced sensitivity to the signal can be obtained with judicious\n",
      "selection of events.\n",
      "\n"
     ]
    }
   ],
   "source": [
    "print(context_faiss)"
   ]
  },
  {
   "cell_type": "code",
   "execution_count": 98,
   "id": "90d3c1f1",
   "metadata": {},
   "outputs": [],
   "source": [
    "tfidf_prompt = f\"\"\"\n",
    "Tu rol es el de una aplicación de tipo Retrieval-Augmented Generation (RAG). Siempre debes responder en **español**, siguiendo las instrucciones con precisión.\n",
    "\n",
    "## Instrucciones:\n",
    "- Usa **solo** el contexto proporcionado.\n",
    "- Si encuentras artículos relevantes, incluye:\n",
    "  - Título: en español si es posible\n",
    "  - Resumen: traducido al español de forma clara\n",
    "- Si **no** hay información relevante en el contexto, responde exactamente con:\n",
    "  \"Lo siento, no encontré una publicación relacionada con tu consulta.\"\n",
    "\n",
    "## Contexto:\n",
    "{context_tfidf}\n",
    "\n",
    "## Pregunta del usuario:\n",
    "{query}\n",
    "\"\"\"\n",
    "\n",
    "\n"
   ]
  },
  {
   "cell_type": "code",
   "execution_count": 99,
   "id": "9a693f66",
   "metadata": {},
   "outputs": [
    {
     "name": "stdout",
     "output_type": "stream",
     "text": [
      "Título: Descomposiciones de grafos que certifican la esparsidad\n",
      "\n",
      "Resumen: El artículo describe un nuevo algoritmo llamado el \"juego de guijarros $(k,\\ell)$ con colores\", que se utiliza para caracterizar la familia de grafos $(k,\\ell)$-dispersos (esparsos) y para resolver algorítmicamente problemas relacionados con descomposiciones tipo árbol de grafos. Los grafos dispersos tienen aplicaciones en la teoría de rigidez y últimamente han recibido mayor atención. El método de guijarros coloreados generaliza y mejora resultados previos, especialmente los de Lee y Streinu, y proporciona una nueva demostración de la caracterización de la arboricidad de Tutte-Nash-Williams. Además, presentan una nueva descomposición que certifica la esparsidad basada en su juego de guijarros coloreados, mostrando también conexiones con algoritmos previos de Gabow, Gabow y Westermann, y Hendrickson para grafos dispersos.\n"
     ]
    }
   ],
   "source": [
    "tdifd_response = client.responses.create(\n",
    "    model=\"gpt-4.1\",\n",
    "    input= tfidf_prompt\n",
    ")\n",
    "\n",
    "print(tdifd_response.output_text)"
   ]
  },
  {
   "cell_type": "code",
   "execution_count": 100,
   "id": "1d254d54",
   "metadata": {},
   "outputs": [],
   "source": [
    "bm25_prompt = f\"\"\"\n",
    "Tu rol es el de una aplicación de tipo Retrieval-Augmented Generation (RAG). Siempre debes responder en **español**, siguiendo las instrucciones con precisión.\n",
    "\n",
    "## Instrucciones:\n",
    "- Usa **solo** el contexto proporcionado.\n",
    "- Si encuentras artículos relevantes, incluye:\n",
    "  - Título: en español si es posible\n",
    "  - Resumen: traducido al español de forma clara\n",
    "- Si **no** hay información relevante en el contexto, responde exactamente con:\n",
    "  \"Lo siento, no encontré una publicación relacionada con tu consulta.\"\n",
    "\n",
    "## Contexto:\n",
    "{context_bm25}\n",
    "\n",
    "## Pregunta del usuario:\n",
    "{query}\n",
    "\"\"\"\n",
    "\n",
    "\n"
   ]
  },
  {
   "cell_type": "code",
   "execution_count": 101,
   "id": "fb82baae",
   "metadata": {},
   "outputs": [
    {
     "name": "stdout",
     "output_type": "stream",
     "text": [
      "Título: Descomposiciones de grafos certificadoras de esparsidad\n",
      "\n",
      "Resumen: Se presenta un nuevo algoritmo llamado el \"juego de fichas $(k,\\ell)$ con colores\", que permite caracterizar la familia de grafos $(k,\\ell)$-dispersos (esparsos) y proporciona soluciones algorítmicas a problemas relacionados con descomposiciones arbóreas de grafos. Los grafos esparsos tienen aplicaciones en la teoría de la rigidez y han recibido atención creciente. El uso de fichas coloreadas generaliza y mejora resultados previos, incluyendo una nueva demostración de la caracterización de arborecidad de Tutte-Nash-Williams. Además, se introduce una nueva descomposición que certifica la esparsidad utilizando este juego de fichas, y se revelan conexiones entre estos algoritmos y algoritmos anteriores para grafos esparsos.\n"
     ]
    }
   ],
   "source": [
    "bm25_response = client.responses.create(\n",
    "    model=\"gpt-4.1\",\n",
    "    input= bm25_prompt\n",
    ")\n",
    "\n",
    "print(bm25_response.output_text)"
   ]
  },
  {
   "cell_type": "code",
   "execution_count": 102,
   "id": "2bfce6df",
   "metadata": {},
   "outputs": [],
   "source": [
    "faiss_prompt = f\"\"\"\n",
    "Tu rol es el de una aplicación de tipo Retrieval-Augmented Generation (RAG). Siempre debes responder en **español**, siguiendo las instrucciones con precisión.\n",
    "\n",
    "## Instrucciones:\n",
    "- Usa **solo** el contexto proporcionado.\n",
    "- Si encuentras artículos relevantes, incluye:\n",
    "  - Título: en español si es posible\n",
    "  - Resumen: traducido al español de forma clara\n",
    "- Si **no** hay información relevante en el contexto, responde exactamente con:\n",
    "  \"Lo siento, no encontré una publicación relacionada con tu consulta.\"\n",
    "\n",
    "## Contexto:\n",
    "{context_faiss}\n",
    "\n",
    "## Pregunta del usuario:\n",
    "{query}\n",
    "\"\"\"\n",
    "\n",
    "\n"
   ]
  },
  {
   "cell_type": "code",
   "execution_count": 103,
   "id": "74c92b9c",
   "metadata": {},
   "outputs": [
    {
     "name": "stdout",
     "output_type": "stream",
     "text": [
      "Título: Descomposiciones de grafos que certifican la esparcidad\n",
      "\n",
      "Resumen: Se describe un nuevo algoritmo denominado \"el juego de fichas $(k,\\ell)$ con colores\", utilizado para caracterizar la familia de grafos $(k,\\ell)$-esparsos y proporcionar soluciones algorítmicas a problemas relacionados con descomposiciones arbóreas de grafos. Este tipo de grafos esparcidos tienen aplicaciones en la teoría de rigidez y han sido objeto de atención reciente. El método propuesto generaliza y refuerza resultados previos de Lee y Streinu, además de ofrecer una nueva demostración de la caracterización de la arboricidad por Tutte-Nash-Williams. También se presenta una nueva descomposición que certifica la esparcidad con base en el juego de fichas coloreadas, mostrando conexiones entre este enfoque y algoritmos previos sobre grafos esparsos.\n"
     ]
    }
   ],
   "source": [
    "faiss_response = client.responses.create(\n",
    "    model=\"gpt-4.1\",\n",
    "    input= faiss_prompt\n",
    ")\n",
    "\n",
    "print(faiss_response.output_text)"
   ]
  },
  {
   "cell_type": "markdown",
   "id": "8e0bb86f",
   "metadata": {},
   "source": [
    "Comparar documentos en común y diferencias de ordenamiento"
   ]
  },
  {
   "cell_type": "code",
   "execution_count": 109,
   "id": "a4f38027",
   "metadata": {},
   "outputs": [],
   "source": [
    "def comparar_resultados(indices_tfidf, indices_bm25, indices_faiss):\n",
    "    set_tfidf = set(indices_tfidf)\n",
    "    set_bm25 = set(indices_bm25)\n",
    "    set_faiss = set(indices_faiss)\n",
    "\n",
    "    print(\"\\n Documentos en común (intersecciones):\\n\")\n",
    "    print(f\"TF-IDF ∩ BM25: {set_tfidf & set_bm25}\")\n",
    "    print(f\"TF-IDF ∩ FAISS: {set_tfidf & set_faiss}\")\n",
    "    print(f\"BM25 ∩ FAISS: {set_bm25 & set_faiss}\")\n",
    "\n",
    "    print(\"\\n Cantidad de coincidencias en top-k:\\n\")\n",
    "    print(f\"TF-IDF vs BM25: {len(set_tfidf & set_bm25)} coincidencias\")\n",
    "    print(f\"TF-IDF vs FAISS: {len(set_tfidf & set_faiss)} coincidencias\")\n",
    "    print(f\"BM25 vs FAISS: {len(set_bm25 & set_faiss)} coincidencias\")\n",
    "\n",
    "    print(\"\\n Orden de documentos por método:\\n\")\n",
    "    print(f\"TF-IDF: {indices_tfidf}\")\n",
    "    print(f\"BM25: {indices_bm25}\")\n",
    "    print(f\"FAISS: {indices_faiss}\")\n"
   ]
  },
  {
   "cell_type": "code",
   "execution_count": 110,
   "id": "9f28869c",
   "metadata": {},
   "outputs": [
    {
     "name": "stdout",
     "output_type": "stream",
     "text": [
      "\n",
      " Documentos en común (intersecciones):\n",
      "\n",
      "TF-IDF ∩ BM25: {1, 3, 4}\n",
      "TF-IDF ∩ FAISS: {1, 3}\n",
      "BM25 ∩ FAISS: {1, 3}\n",
      "\n",
      " Cantidad de coincidencias en top-k:\n",
      "\n",
      "TF-IDF vs BM25: 3 coincidencias\n",
      "TF-IDF vs FAISS: 2 coincidencias\n",
      "BM25 vs FAISS: 2 coincidencias\n",
      "\n",
      " Orden de documentos por método:\n",
      "\n",
      "TF-IDF: [1, 4, 3]\n",
      "BM25: [1, 4, 3]\n",
      "FAISS: [1, 3, 0]\n"
     ]
    }
   ],
   "source": [
    "comparar_resultados(indices, indices_bm25, indices_faiss)\n"
   ]
  },
  {
   "cell_type": "markdown",
   "id": "00ad98f4",
   "metadata": {},
   "source": [
    "Medicion de similitud de Rankings"
   ]
  },
  {
   "cell_type": "code",
   "execution_count": 111,
   "id": "7eda2e68",
   "metadata": {},
   "outputs": [
    {
     "name": "stdout",
     "output_type": "stream",
     "text": [
      "\n",
      " Similitud de Jaccard entre rankings:\n",
      "TF-IDF vs BM25: 1.0\n",
      "TF-IDF vs FAISS: 0.5\n",
      "BM25 vs FAISS: 0.5\n"
     ]
    }
   ],
   "source": [
    "def jaccard_sim(set1, set2):\n",
    "    return len(set1 & set2) / len(set1 | set2)\n",
    "\n",
    "print(\"\\n Similitud de Jaccard entre rankings:\")\n",
    "print(\"TF-IDF vs BM25:\", jaccard_sim(set(indices), set(indices_bm25)))\n",
    "print(\"TF-IDF vs FAISS:\", jaccard_sim(set(indices), set(indices_faiss)))\n",
    "print(\"BM25 vs FAISS:\", jaccard_sim(set(indices_bm25), set(indices_faiss)))\n"
   ]
  },
  {
   "cell_type": "markdown",
   "id": "412cdde1",
   "metadata": {},
   "source": [
    "Evaluacion de respuestas del LLM"
   ]
  },
  {
   "cell_type": "code",
   "execution_count": 135,
   "id": "0309356b",
   "metadata": {},
   "outputs": [],
   "source": [
    "def evaluar_respuesta_llm(respuesta, context_items, query):\n",
    "    from difflib import SequenceMatcher\n",
    "\n",
    " \n",
    "    titulos = [item[\"title\"].lower() for item in context_items]\n",
    "    titulo_mencionado = any(titulo in respuesta.lower() for titulo in titulos)\n",
    "\n",
    "\n",
    "    palabras_clave = query.lower().split()\n",
    "    tokens_resp = respuesta.lower().split()\n",
    "    coincidencias = sum(1 for w in palabras_clave if w in tokens_resp)\n",
    "\n",
    "    print(\"\\n Evaluación básica de la respuesta:\")\n",
    "    print(\"¿Se menciona algún título del contexto?:\", \"SI\" if titulo_mencionado else \"NO\")\n",
    "    print(\"¿Coincidencias con palabras clave de la query?:\", f\"{coincidencias}/{len(palabras_clave)}\")\n"
   ]
  },
  {
   "cell_type": "code",
   "execution_count": null,
   "id": "9c0f3e19",
   "metadata": {},
   "outputs": [
    {
     "name": "stdout",
     "output_type": "stream",
     "text": [
      "\n",
      " Evaluación de la respuesta TF-IDF:\n",
      "\n",
      " Evaluación básica de la respuesta:\n",
      "¿Se menciona algún título del contexto?: NO\n",
      "¿Coincidencias con palabras clave de la query?: 0/3\n",
      "\n",
      " Evaluación de la respuesta BM25:\n",
      "\n",
      " Evaluación básica de la respuesta:\n",
      "¿Se menciona algún título del contexto?: NO\n",
      "¿Coincidencias con palabras clave de la query?: 0/3\n",
      "\n",
      " Evaluación de la respuesta FAISS:\n",
      "\n",
      " Evaluación básica de la respuesta:\n",
      "¿Se menciona algún título del contexto?: NO\n",
      "¿Coincidencias con palabras clave de la query?: 0/3\n"
     ]
    }
   ],
   "source": [
    "print(\"\\n Evaluación de la respuesta TF-IDF:\")\n",
    "evaluar_respuesta_llm(tdifd_response.output_text, context_items, query)\n",
    "print(\"\\n Evaluación de la respuesta BM25:\")\n",
    "evaluar_respuesta_llm(bm25_response.output_text, context_items_bm25, query)\n",
    "print(\"\\n Evaluación de la respuesta FAISS:\")\n",
    "evaluar_respuesta_llm(faiss_response.output_text, context_items_faiss, query)\n"
   ]
  },
  {
   "cell_type": "markdown",
   "id": "47407218",
   "metadata": {},
   "source": [
    "Tabla comparativa"
   ]
  },
  {
   "cell_type": "code",
   "execution_count": null,
   "id": "b8932897",
   "metadata": {},
   "outputs": [],
   "source": [
    "def ranking_comparison_simple(query, top_k=10):\n",
    "\n",
    "    indices_tfidf, _ = search_tfidf(query, top_k=top_k)\n",
    "    indices_bm25, _ = search_bm25(query, top_k=top_k)\n",
    "    indices_faiss, _ = search_faiss(query, top_k=top_k)\n",
    "\n",
    " \n",
    "    df_simple = pd.DataFrame({\n",
    "        'Rank': list(range(1, top_k + 1)),\n",
    "        'TF-IDF': indices_tfidf,\n",
    "        'BM25': indices_bm25,\n",
    "        'FAISS': indices_faiss\n",
    "    })\n",
    "\n",
    "\n",
    "    set_tfidf = set(indices_tfidf)\n",
    "    set_bm25 = set(indices_bm25)\n",
    "    set_faiss = set(indices_faiss)\n",
    "\n",
    "    print(f\"\\n🔎 Coincidencias entre modelos para la query: '{query}'\")\n",
    "    print(f\"- TF-IDF & BM25: {len(set_tfidf & set_bm25)} coincidencias\")\n",
    "    print(f\"- TF-IDF & FAISS: {len(set_tfidf & set_faiss)} coincidencias\")\n",
    "    print(f\"- BM25 & FAISS: {len(set_bm25 & set_faiss)} coincidencias\")\n",
    "    print(f\"- Común a los tres: {len(set_tfidf & set_bm25 & set_faiss)} coincidencias\")\n",
    "\n",
    "    return df_simple\n",
    "\n"
   ]
  },
  {
   "cell_type": "code",
   "execution_count": 134,
   "id": "f0d0c254",
   "metadata": {},
   "outputs": [
    {
     "name": "stdout",
     "output_type": "stream",
     "text": [
      "\n",
      "🔹 TF-IDF results for: 'Sparsity-certifying Graph Decompositions'\n",
      "\n",
      "1. [1] Sparsity-certifying Graph Decompositions\n",
      "We describe a new algorithm, the $(k,\\ell)$-pebble game with colors, and use it obtain a characterization of the family of $(k,\\ell)$-sparse graphs and algorithmic solutions to a family of problems concerning tree decompositions of graphs. Special instances of sparse graphs appear in rigidity theo\n",
      "\n",
      "2. [4] From dyadic $\\Lambda_{\\alpha}$ to $\\Lambda_{\\alpha}$\n",
      "In this paper we show how to compute the $\\Lambda_{\\alpha}$ norm, $\\alpha\\ge 0$, using the dyadic grid. This result is a consequence of the description of the Hardy spaces $H^p(R^N)$ in terms of dyadic and special atoms.\n",
      "\n",
      "3. [3] A determinant of Stirling cycle numbers counts unlabeled acyclic\n",
      "  single-source automata\n",
      "We show that a determinant of Stirling cycle numbers counts unlabeled acyclic single-source automata. The proof involves a bijection from these automata to certain marked lattice paths and a sign-reversing involution to evaluate the determinant.\n",
      "\n",
      "4. [2] The evolution of the Earth-Moon system based on the dark matter field\n",
      "  fluid model\n",
      "The evolution of Earth-Moon system is described by the dark matter field fluid model proposed in the Meeting of Division of Particle and Field 2004, American Physical Society. The current behavior of the Earth-Moon system agrees with this model very well and the general pattern of the evolution of\n",
      "\n",
      "5. [0] Calculation of prompt diphoton production cross sections at Tevatron and\n",
      "  LHC energies\n",
      "A fully differential calculation in perturbative quantum chromodynamics is presented for the production of massive photon pairs at hadron colliders. All next-to-leading order perturbative contributions from quark-antiquark, gluon-(anti)quark, and gluon-gluon subprocesses are included, as well as a\n",
      "\n",
      "\n",
      "🔹 BM25 results for: 'Sparsity-certifying Graph Decompositions'\n",
      "\n",
      "1. [1] Sparsity-certifying Graph Decompositions\n",
      "We describe a new algorithm, the $(k,\\ell)$-pebble game with colors, and use it obtain a characterization of the family of $(k,\\ell)$-sparse graphs and algorithmic solutions to a family of problems concerning tree decompositions of graphs. Special instances of sparse graphs appear in rigidity theo\n",
      "\n",
      "2. [4] From dyadic $\\Lambda_{\\alpha}$ to $\\Lambda_{\\alpha}$\n",
      "In this paper we show how to compute the $\\Lambda_{\\alpha}$ norm, $\\alpha\\ge 0$, using the dyadic grid. This result is a consequence of the description of the Hardy spaces $H^p(R^N)$ in terms of dyadic and special atoms.\n",
      "\n",
      "3. [3] A determinant of Stirling cycle numbers counts unlabeled acyclic\n",
      "  single-source automata\n",
      "We show that a determinant of Stirling cycle numbers counts unlabeled acyclic single-source automata. The proof involves a bijection from these automata to certain marked lattice paths and a sign-reversing involution to evaluate the determinant.\n",
      "\n",
      "4. [2] The evolution of the Earth-Moon system based on the dark matter field\n",
      "  fluid model\n",
      "The evolution of Earth-Moon system is described by the dark matter field fluid model proposed in the Meeting of Division of Particle and Field 2004, American Physical Society. The current behavior of the Earth-Moon system agrees with this model very well and the general pattern of the evolution of\n",
      "\n",
      "5. [0] Calculation of prompt diphoton production cross sections at Tevatron and\n",
      "  LHC energies\n",
      "A fully differential calculation in perturbative quantum chromodynamics is presented for the production of massive photon pairs at hadron colliders. All next-to-leading order perturbative contributions from quark-antiquark, gluon-(anti)quark, and gluon-gluon subprocesses are included, as well as a\n",
      "\n",
      "\n",
      "🔹 FAISS results for: 'Sparsity-certifying Graph Decompositions'\n",
      "\n",
      "1. [1] Sparsity-certifying Graph Decompositions\n",
      "We describe a new algorithm, the $(k,\\ell)$-pebble game with colors, and use it obtain a characterization of the family of $(k,\\ell)$-sparse graphs and algorithmic solutions to a family of problems concerning tree decompositions of graphs. Special instances of sparse graphs appear in rigidity theo\n",
      "\n",
      "2. [3] A determinant of Stirling cycle numbers counts unlabeled acyclic\n",
      "  single-source automata\n",
      "We show that a determinant of Stirling cycle numbers counts unlabeled acyclic single-source automata. The proof involves a bijection from these automata to certain marked lattice paths and a sign-reversing involution to evaluate the determinant.\n",
      "\n",
      "3. [0] Calculation of prompt diphoton production cross sections at Tevatron and\n",
      "  LHC energies\n",
      "A fully differential calculation in perturbative quantum chromodynamics is presented for the production of massive photon pairs at hadron colliders. All next-to-leading order perturbative contributions from quark-antiquark, gluon-(anti)quark, and gluon-gluon subprocesses are included, as well as a\n",
      "\n",
      "4. [4] From dyadic $\\Lambda_{\\alpha}$ to $\\Lambda_{\\alpha}$\n",
      "In this paper we show how to compute the $\\Lambda_{\\alpha}$ norm, $\\alpha\\ge 0$, using the dyadic grid. This result is a consequence of the description of the Hardy spaces $H^p(R^N)$ in terms of dyadic and special atoms.\n",
      "\n",
      "5. [2] The evolution of the Earth-Moon system based on the dark matter field\n",
      "  fluid model\n",
      "The evolution of Earth-Moon system is described by the dark matter field fluid model proposed in the Meeting of Division of Particle and Field 2004, American Physical Society. The current behavior of the Earth-Moon system agrees with this model very well and the general pattern of the evolution of\n",
      "\n",
      "\n",
      "🔎 Coincidencias entre modelos para la query: 'Sparsity-certifying Graph Decompositions'\n",
      "- TF-IDF & BM25: 5 coincidencias\n",
      "- TF-IDF & FAISS: 5 coincidencias\n",
      "- BM25 & FAISS: 5 coincidencias\n",
      "- Común a los tres: 5 coincidencias\n"
     ]
    },
    {
     "data": {
      "text/html": [
       "<div>\n",
       "<style scoped>\n",
       "    .dataframe tbody tr th:only-of-type {\n",
       "        vertical-align: middle;\n",
       "    }\n",
       "\n",
       "    .dataframe tbody tr th {\n",
       "        vertical-align: top;\n",
       "    }\n",
       "\n",
       "    .dataframe thead th {\n",
       "        text-align: right;\n",
       "    }\n",
       "</style>\n",
       "<table border=\"1\" class=\"dataframe\">\n",
       "  <thead>\n",
       "    <tr style=\"text-align: right;\">\n",
       "      <th></th>\n",
       "      <th>Rank</th>\n",
       "      <th>TF-IDF</th>\n",
       "      <th>BM25</th>\n",
       "      <th>FAISS</th>\n",
       "    </tr>\n",
       "  </thead>\n",
       "  <tbody>\n",
       "    <tr>\n",
       "      <th>0</th>\n",
       "      <td>1</td>\n",
       "      <td>1</td>\n",
       "      <td>1</td>\n",
       "      <td>1</td>\n",
       "    </tr>\n",
       "    <tr>\n",
       "      <th>1</th>\n",
       "      <td>2</td>\n",
       "      <td>4</td>\n",
       "      <td>4</td>\n",
       "      <td>3</td>\n",
       "    </tr>\n",
       "    <tr>\n",
       "      <th>2</th>\n",
       "      <td>3</td>\n",
       "      <td>3</td>\n",
       "      <td>3</td>\n",
       "      <td>0</td>\n",
       "    </tr>\n",
       "    <tr>\n",
       "      <th>3</th>\n",
       "      <td>4</td>\n",
       "      <td>2</td>\n",
       "      <td>2</td>\n",
       "      <td>4</td>\n",
       "    </tr>\n",
       "    <tr>\n",
       "      <th>4</th>\n",
       "      <td>5</td>\n",
       "      <td>0</td>\n",
       "      <td>0</td>\n",
       "      <td>2</td>\n",
       "    </tr>\n",
       "  </tbody>\n",
       "</table>\n",
       "</div>"
      ],
      "text/plain": [
       "   Rank  TF-IDF  BM25  FAISS\n",
       "0     1       1     1      1\n",
       "1     2       4     4      3\n",
       "2     3       3     3      0\n",
       "3     4       2     2      4\n",
       "4     5       0     0      2"
      ]
     },
     "execution_count": 134,
     "metadata": {},
     "output_type": "execute_result"
    }
   ],
   "source": [
    "tabla= ranking_comparison_simple(query, top_k=5)\n",
    "tabla"
   ]
  }
 ],
 "metadata": {
  "kernelspec": {
   "display_name": "Python 3",
   "language": "python",
   "name": "python3"
  },
  "language_info": {
   "codemirror_mode": {
    "name": "ipython",
    "version": 3
   },
   "file_extension": ".py",
   "mimetype": "text/x-python",
   "name": "python",
   "nbconvert_exporter": "python",
   "pygments_lexer": "ipython3",
   "version": "3.11.0"
  }
 },
 "nbformat": 4,
 "nbformat_minor": 5
}
