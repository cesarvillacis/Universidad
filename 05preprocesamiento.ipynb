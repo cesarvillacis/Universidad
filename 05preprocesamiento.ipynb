{
 "cells": [
  {
   "cell_type": "markdown",
   "id": "33e92cd0550dcfd1",
   "metadata": {},
   "source": [
    "# Ejercicio 5: Modelo Probabilístico\n",
    "\n",
    "## Objetivo de la práctica\n",
    "- Aplicar paso a paso técnicas de preprocesamiento, evaluando el impacto de cada etapa en el número de tokens y en el vocabulario final."
   ]
  },
  {
   "cell_type": "markdown",
   "id": "88982921c8872f8f",
   "metadata": {},
   "source": [
    "## Parte 0: Carga del Corpus"
   ]
  },
  {
   "cell_type": "code",
   "execution_count": 2,
   "id": "initial_id",
   "metadata": {
    "ExecuteTime": {
     "end_time": "2025-05-28T15:51:10.347651Z",
     "start_time": "2025-05-28T15:51:07.548869Z"
    },
    "collapsed": true
   },
   "outputs": [],
   "source": [
    "from sklearn.datasets import fetch_20newsgroups\n",
    "\n",
    "newsgroups = fetch_20newsgroups(subset='all', remove=('headers', 'footers', 'quotes'))\n",
    "newsgroupsdocs = newsgroups.data\n",
    "\n"
   ]
  },
  {
   "cell_type": "markdown",
   "id": "c6196ea9cb414396",
   "metadata": {},
   "source": [
    "## Parte 1: Tokenización\n",
    "\n",
    "### Actividad \n",
    "1. Tokeniza los documentos."
   ]
  },
  {
   "cell_type": "code",
   "execution_count": 3,
   "id": "49578780",
   "metadata": {},
   "outputs": [],
   "source": [
    "#Libreria para tokenizar\n",
    "from sklearn.feature_extraction.text import CountVectorizer"
   ]
  },
  {
   "cell_type": "code",
   "execution_count": 4,
   "id": "cfb0f2438c9c0144",
   "metadata": {},
   "outputs": [],
   "source": [
    "#Instanciamos un objeto de tipo CountVectorizer\n",
    "vectorizer = CountVectorizer()\n",
    "tokenizer = vectorizer.build_tokenizer()\n",
    "\n",
    "#tokenizamos todos los documentos\n",
    "tokenized_docs = [tokenizer(doc) for doc in newsgroupsdocs]\n",
    "\n"
   ]
  },
  {
   "cell_type": "code",
   "execution_count": 5,
   "id": "501fe378",
   "metadata": {},
   "outputs": [
    {
     "name": "stdout",
     "output_type": "stream",
     "text": [
      "Documento 1: ['am', 'sure', 'some', 'bashers', 'of', 'Pens', 'fans', 'are', 'pretty', 'confused', 'about', 'the']\n",
      "Documento 2: ['My', 'brother', 'is', 'in', 'the', 'market', 'for', 'high', 'performance', 'video', 'card', 'that']\n",
      "Documento 3: ['Finally', 'you', 'said', 'what', 'you', 'dream', 'about', 'Mediterranean', 'That', 'was', 'new', 'The']\n",
      "Documento 4: ['Think', 'It', 'the', 'SCSI', 'card', 'doing', 'the', 'DMA', 'transfers', 'NOT', 'the', 'disks']\n",
      "Documento 5: ['have', 'an', 'old', 'Jasmine', 'drive', 'which', 'cannot', 'use', 'with', 'my', 'new', 'system']\n"
     ]
    }
   ],
   "source": [
    "#print(tokenized_docs[0][:20])\n",
    "for i in range(5):  # los primeros 3 documentos\n",
    "    print(f\"Documento {i + 1}: {tokenized_docs[i][:12]}\")  # muestra los primeros 10 tokens de cada uno\n",
    "  "
   ]
  },
  {
   "cell_type": "markdown",
   "id": "73ecfc1e6638e9d2",
   "metadata": {},
   "source": [
    "## Parte 2: Normalización\n",
    "\n",
    "### Actividad \n",
    "1. Convierte todos los tokens a minúsculas.\n",
    "2. Elimina puntuación y símbolos no alfabéticos."
   ]
  },
  {
   "cell_type": "code",
   "execution_count": 6,
   "id": "fc67a424c6550fa4",
   "metadata": {},
   "outputs": [],
   "source": [
    "#Convierte todos los tokens a minusculas y los simbolos alfabeticos\n",
    "cleaned_docs = [\n",
    "    [token.lower() for token in doc if token.isalpha()]\n",
    "    for doc in tokenized_docs\n",
    "]"
   ]
  },
  {
   "cell_type": "code",
   "execution_count": 7,
   "id": "7839105b",
   "metadata": {},
   "outputs": [
    {
     "name": "stdout",
     "output_type": "stream",
     "text": [
      "Documento 1: ['am', 'sure', 'some', 'bashers', 'of', 'pens', 'fans', 'are', 'pretty', 'confused', 'about', 'the']\n",
      "Documento 2: ['my', 'brother', 'is', 'in', 'the', 'market', 'for', 'high', 'performance', 'video', 'card', 'that']\n",
      "Documento 3: ['finally', 'you', 'said', 'what', 'you', 'dream', 'about', 'mediterranean', 'that', 'was', 'new', 'the']\n",
      "Documento 4: ['think', 'it', 'the', 'scsi', 'card', 'doing', 'the', 'dma', 'transfers', 'not', 'the', 'disks']\n",
      "Documento 5: ['have', 'an', 'old', 'jasmine', 'drive', 'which', 'cannot', 'use', 'with', 'my', 'new', 'system']\n"
     ]
    }
   ],
   "source": [
    "#Demostracion\n",
    "for i in range(5):  # los primeros 3 documentos\n",
    "    print(f\"Documento {i + 1}: {cleaned_docs[i][:12]}\")"
   ]
  },
  {
   "cell_type": "markdown",
   "id": "973153ad553db841",
   "metadata": {},
   "source": [
    "## Parte 3: Eliminación de Stopwords\n",
    "\n",
    "### Actividad \n",
    "1. Elimina las palabras vacías usando una lista estándar."
   ]
  },
  {
   "cell_type": "code",
   "execution_count": 8,
   "id": "9dcb3d14",
   "metadata": {},
   "outputs": [
    {
     "name": "stderr",
     "output_type": "stream",
     "text": [
      "[nltk_data] Downloading package stopwords to\n",
      "[nltk_data]     C:\\Users\\cesar\\AppData\\Roaming\\nltk_data...\n",
      "[nltk_data]   Package stopwords is already up-to-date!\n"
     ]
    }
   ],
   "source": [
    "import nltk\n",
    "nltk.download('stopwords')\n",
    "from nltk.corpus import stopwords\n",
    "\n",
    "stop_words = set(stopwords.words('english'))"
   ]
  },
  {
   "cell_type": "code",
   "execution_count": 9,
   "id": "477c7bcd5c2d0391",
   "metadata": {},
   "outputs": [],
   "source": [
    "#eliminar palabras vacias\n",
    "filtered_docs = [\n",
    "    [token for token in doc if token not in stop_words]\n",
    "    for doc in cleaned_docs\n",
    "]"
   ]
  },
  {
   "cell_type": "code",
   "execution_count": 10,
   "id": "d0beabfb",
   "metadata": {},
   "outputs": [
    {
     "name": "stdout",
     "output_type": "stream",
     "text": [
      "Documento 1: ['sure', 'bashers', 'pens', 'fans', 'pretty', 'confused', 'lack', 'kind', 'posts', 'recent', 'pens', 'massacre']\n",
      "Documento 2: ['brother', 'market', 'high', 'performance', 'video', 'card', 'supports', 'vesa', 'local', 'bus', 'ram', 'anyone']\n",
      "Documento 3: ['finally', 'said', 'dream', 'mediterranean', 'new', 'area', 'greater', 'years', 'like', 'holocaust', 'numbers', 'july']\n",
      "Documento 4: ['think', 'scsi', 'card', 'dma', 'transfers', 'disks', 'scsi', 'card', 'dma', 'transfers', 'containing', 'data']\n",
      "Documento 5: ['old', 'jasmine', 'drive', 'cannot', 'use', 'new', 'system', 'understanding', 'upsate', 'driver', 'modern', 'one']\n"
     ]
    }
   ],
   "source": [
    "#Demostracion\n",
    "for i in range(5):  # los primeros 3 documentos\n",
    "    print(f\"Documento {i + 1}: {filtered_docs[i][:12]}\")"
   ]
  },
  {
   "cell_type": "markdown",
   "id": "d83f090bfc7868f8",
   "metadata": {},
   "source": [
    "## Parte 4: Stemming o Lematización\n",
    "\n",
    "### Actividad\n",
    "1. Aplica stemming.\n",
    "2. Aplica lematización.\n",
    "3. Compara ambas técnicas."
   ]
  },
  {
   "cell_type": "code",
   "execution_count": 11,
   "id": "fd9ff693047bd948",
   "metadata": {},
   "outputs": [],
   "source": [
    "from nltk.stem import PorterStemmer\n",
    "\n",
    "stemmer = PorterStemmer()\n"
   ]
  },
  {
   "cell_type": "code",
   "execution_count": 12,
   "id": "68ea392b",
   "metadata": {},
   "outputs": [],
   "source": [
    "#se aplica el stemming\n",
    "stemmed_docs = [\n",
    "    [stemmer.stem(token) for token in doc]\n",
    "    for doc in filtered_docs\n",
    "]"
   ]
  },
  {
   "cell_type": "code",
   "execution_count": 13,
   "id": "cb4538d8",
   "metadata": {},
   "outputs": [
    {
     "name": "stderr",
     "output_type": "stream",
     "text": [
      "[nltk_data] Downloading package wordnet to\n",
      "[nltk_data]     C:\\Users\\cesar\\AppData\\Roaming\\nltk_data...\n",
      "[nltk_data] Downloading package omw-1.4 to\n",
      "[nltk_data]     C:\\Users\\cesar\\AppData\\Roaming\\nltk_data...\n"
     ]
    }
   ],
   "source": [
    "import nltk\n",
    "nltk.download('wordnet')\n",
    "nltk.download('omw-1.4')\n",
    "from nltk.stem import WordNetLemmatizer\n",
    "\n",
    "lemmatizer = WordNetLemmatizer()\n",
    "\n",
    "# Lematización (sin POS tagging por ahora)\n",
    "lemmatized_docs = [\n",
    "    [lemmatizer.lemmatize(token) for token in doc]\n",
    "    for doc in filtered_docs\n",
    "]\n"
   ]
  },
  {
   "cell_type": "code",
   "execution_count": 14,
   "id": "51109e7b",
   "metadata": {},
   "outputs": [
    {
     "name": "stdout",
     "output_type": "stream",
     "text": [
      "Original: ['sure', 'bashers', 'pens', 'fans', 'pretty', 'confused', 'lack', 'kind', 'posts', 'recent', 'pens', 'massacre', 'devils', 'actually', 'bit', 'puzzled', 'bit', 'relieved', 'however', 'going']\n",
      "Stemming: ['sure', 'basher', 'pen', 'fan', 'pretti', 'confus', 'lack', 'kind', 'post', 'recent', 'pen', 'massacr', 'devil', 'actual', 'bit', 'puzzl', 'bit', 'reliev', 'howev', 'go']\n",
      "Lematización: ['sure', 'bashers', 'pen', 'fan', 'pretty', 'confused', 'lack', 'kind', 'post', 'recent', 'pen', 'massacre', 'devil', 'actually', 'bit', 'puzzled', 'bit', 'relieved', 'however', 'going']\n"
     ]
    }
   ],
   "source": [
    "#demostracion\n",
    "print(\"Original:\", filtered_docs[0][:20])\n",
    "print(\"Stemming:\", stemmed_docs[0][:20])\n",
    "print(\"Lematización:\", lemmatized_docs[0][:20])\n"
   ]
  }
 ],
 "metadata": {
  "kernelspec": {
   "display_name": "venv",
   "language": "python",
   "name": "python3"
  },
  "language_info": {
   "codemirror_mode": {
    "name": "ipython",
    "version": 3
   },
   "file_extension": ".py",
   "mimetype": "text/x-python",
   "name": "python",
   "nbconvert_exporter": "python",
   "pygments_lexer": "ipython3",
   "version": "3.13.3"
  }
 },
 "nbformat": 4,
 "nbformat_minor": 5
}
