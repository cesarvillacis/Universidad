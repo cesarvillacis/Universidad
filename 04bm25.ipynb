{
 "cells": [
  {
   "cell_type": "markdown",
   "id": "941741204a003f44",
   "metadata": {},
   "source": [
    "# Ejercicio 4: Modelo Probabilístico\n",
    "\n",
    "## Objetivo de la práctica\n",
    "- Comprender los componentes del modelo vectorial mediante cálculos manuales y observación directa.\n",
    "- Aplicar el modelo de espacio vectorial con TF-IDF para recuperar documentos relevantes.\n",
    "- Comparar la recuperación con BM25 frente a TF-IDF.\n",
    "- Analizar visualmente las diferencias entre los modelos.\n",
    "- Evaluar si los rankings generados son consistentes con lo que considerarías documentos relevantes."
   ]
  },
  {
   "cell_type": "markdown",
   "id": "93bafe7a6a4ef9e5",
   "metadata": {},
   "source": [
    "## Parte 0: Carga del Corpus"
   ]
  },
  {
   "cell_type": "code",
   "execution_count": 16,
   "id": "ad08bb8bd43ae327",
   "metadata": {
    "ExecuteTime": {
     "end_time": "2025-05-21T14:16:07.323562Z",
     "start_time": "2025-05-21T14:16:05.364309Z"
    }
   },
   "outputs": [],
   "source": [
    "#activar entorno virtual .\\venv\\Scripts\\activate\n",
    "from sklearn.datasets import fetch_20newsgroups\n",
    "\n",
    "newsgroups = fetch_20newsgroups(subset='all', remove=('headers', 'footers', 'quotes'))\n",
    "newsgroupsdocs = newsgroups.data"
   ]
  },
  {
   "cell_type": "markdown",
   "id": "10f8c7f78934f497",
   "metadata": {},
   "source": [
    "## Parte 1: Cálculo de TF, DF, IDF y TF-IDF\n",
    "\n",
    "### Actividad \n",
    "1. Utiliza el corpus cargado.\n"
   ]
  },
  {
   "cell_type": "code",
   "execution_count": 17,
   "id": "7a6aef53",
   "metadata": {},
   "outputs": [
    {
     "name": "stdout",
     "output_type": "stream",
     "text": [
      "18846\n"
     ]
    }
   ],
   "source": [
    "#Numero de Documentos\n",
    "print(len(newsgroupsdocs))\n"
   ]
  },
  {
   "cell_type": "code",
   "execution_count": 18,
   "id": "c6bde4d9",
   "metadata": {},
   "outputs": [
    {
     "name": "stdout",
     "output_type": "stream",
     "text": [
      "Tamaño total del corpus: 21.02 MB\n"
     ]
    }
   ],
   "source": [
    "total_bytes = sum(len(doc.encode('utf-8')) for doc in newsgroupsdocs)\n",
    "print(f\"Tamaño total del corpus: {total_bytes / (1024*1024):.2f} MB\")\n",
    "\n",
    "#print(newsgroupsdocs[0][:1000])"
   ]
  },
  {
   "cell_type": "markdown",
   "id": "1346240f",
   "metadata": {},
   "source": [
    "2. Construye la matriz de términos (TF)\n"
   ]
  },
  {
   "cell_type": "code",
   "execution_count": 19,
   "id": "d2ebd9f1c1b6c787",
   "metadata": {},
   "outputs": [
    {
     "name": "stdout",
     "output_type": "stream",
     "text": [
      "260121\n"
     ]
    }
   ],
   "source": [
    "#Mi forma\n",
    "terminos = set()\n",
    "\n",
    "for doc in newsgroupsdocs:\n",
    "    doc = doc.split()  # separa el texto en palabras usando espacios\n",
    "    for termino in doc:\n",
    "        terminos.add(termino.lower())  # opcional: pasar a minúsculas para normalizar\n",
    "\n",
    "\n",
    "print(len(terminos))\n",
    "\n",
    "terminos = sorted(list(terminos))\n",
    "\n",
    "\n",
    "\n"
   ]
  },
  {
   "cell_type": "code",
   "execution_count": 20,
   "id": "69796ca4",
   "metadata": {},
   "outputs": [
    {
     "name": "stdout",
     "output_type": "stream",
     "text": [
      "Número de términos únicos: 134410\n",
      "['00' '000' '0000' ... '³ation' 'ýé' 'ÿhooked']\n"
     ]
    }
   ],
   "source": [
    "from sklearn.feature_extraction.text import CountVectorizer\n",
    "\n",
    "vectorizer = CountVectorizer()\n",
    "X = vectorizer.fit_transform(newsgroupsdocs)  # transforma todo el corpus a matriz TF\n",
    "terminos = vectorizer.get_feature_names_out()  # array con las palabras únicas\n",
    "print(f\"Número de términos únicos: {len(terminos)}\")\n",
    "\n",
    "print(terminos)\n"
   ]
  },
  {
   "cell_type": "code",
   "execution_count": 21,
   "id": "66c15656",
   "metadata": {},
   "outputs": [
    {
     "name": "stdout",
     "output_type": "stream",
     "text": [
      "   00  000  0000  00000  000000  00000000  0000000004  00000000b  00000001  \\\n",
      "0   0    0     0      0       0         0           0          0         0   \n",
      "1   0    0     0      0       0         0           0          0         0   \n",
      "2   0    0     0      0       0         0           0          0         0   \n",
      "3   0    0     0      0       0         0           0          0         0   \n",
      "4   0    0     0      0       0         0           0          0         0   \n",
      "\n",
      "   00000001b  ...  zzs  zzvsi  zzy_3w  zzz  zzzoh  zzzzzz  zzzzzzt  ³ation  \\\n",
      "0          0  ...    0      0       0    0      0       0        0       0   \n",
      "1          0  ...    0      0       0    0      0       0        0       0   \n",
      "2          0  ...    0      0       0    0      0       0        0       0   \n",
      "3          0  ...    0      0       0    0      0       0        0       0   \n",
      "4          0  ...    0      0       0    0      0       0        0       0   \n",
      "\n",
      "   ýé  ÿhooked  \n",
      "0   0        0  \n",
      "1   0        0  \n",
      "2   0        0  \n",
      "3   0        0  \n",
      "4   0        0  \n",
      "\n",
      "[5 rows x 134410 columns]\n"
     ]
    }
   ],
   "source": [
    "import pandas as pd\n",
    "\n",
    "X_denso = X[:10].toarray()\n",
    "\n",
    "df = pd.DataFrame(X_denso, columns=terminos)\n",
    "\n",
    "print(df.head())\n"
   ]
  },
  {
   "cell_type": "markdown",
   "id": "9930e9dc",
   "metadata": {},
   "source": [
    "Calcula la frecuencia de documentos (DF)"
   ]
  },
  {
   "cell_type": "code",
   "execution_count": 22,
   "id": "a329c194",
   "metadata": {},
   "outputs": [
    {
     "name": "stdout",
     "output_type": "stream",
     "text": [
      "00: aparece en 402 documentos\n",
      "000: aparece en 455 documentos\n",
      "0000: aparece en 10 documentos\n",
      "00000: aparece en 7 documentos\n",
      "000000: aparece en 1 documentos\n",
      "00000000: aparece en 2 documentos\n",
      "0000000004: aparece en 2 documentos\n",
      "00000000b: aparece en 1 documentos\n",
      "00000001: aparece en 1 documentos\n",
      "00000001b: aparece en 1 documentos\n"
     ]
    }
   ],
   "source": [
    "import numpy as np\n",
    "\n",
    "# Cada columna en X es un término. Comprobamos en cuántos documentos aparece cada término (DF)\n",
    "df = np.sum(X > 0, axis=0)\n",
    "\n",
    "# Lo convertimos a una lista plana\n",
    "df = np.array(df).flatten()\n",
    "\n",
    "# Obtenemos los términos\n",
    "terminos = vectorizer.get_feature_names_out()\n",
    "\n",
    "# Mostramos DF de los 10 primeros términos\n",
    "for termino, freq in zip(terminos[:10], df[:10]):\n",
    "    print(f\"{termino}: aparece en {freq} documentos\")\n"
   ]
  },
  {
   "cell_type": "markdown",
   "id": "57c403b4",
   "metadata": {},
   "source": [
    "3. Calcula TF-IDF utilizando sklearn.\n"
   ]
  },
  {
   "cell_type": "code",
   "execution_count": 23,
   "id": "6879824f",
   "metadata": {},
   "outputs": [],
   "source": [
    "from sklearn.feature_extraction.text import TfidfVectorizer\n",
    "vectorizer = TfidfVectorizer()\n",
    "tfidf = vectorizer.fit_transform(newsgroupsdocs)"
   ]
  },
  {
   "cell_type": "markdown",
   "id": "3968716b",
   "metadata": {},
   "source": [
    "4. Visualiza los valores en un DataFrame para analizar las diferencias entre los términos."
   ]
  },
  {
   "cell_type": "code",
   "execution_count": 24,
   "id": "3b69951d",
   "metadata": {},
   "outputs": [
    {
     "name": "stdout",
     "output_type": "stream",
     "text": [
      "    00  000  0000  00000  000000  00000000  0000000004  00000000b  00000001  \\\n",
      "0  0.0  0.0   0.0    0.0     0.0       0.0         0.0        0.0       0.0   \n",
      "1  0.0  0.0   0.0    0.0     0.0       0.0         0.0        0.0       0.0   \n",
      "2  0.0  0.0   0.0    0.0     0.0       0.0         0.0        0.0       0.0   \n",
      "3  0.0  0.0   0.0    0.0     0.0       0.0         0.0        0.0       0.0   \n",
      "4  0.0  0.0   0.0    0.0     0.0       0.0         0.0        0.0       0.0   \n",
      "\n",
      "   00000001b  \n",
      "0        0.0  \n",
      "1        0.0  \n",
      "2        0.0  \n",
      "3        0.0  \n",
      "4        0.0  \n"
     ]
    }
   ],
   "source": [
    "import pandas as pd\n",
    "\n",
    "# Obtener los términos\n",
    "terminos = vectorizer.get_feature_names_out()\n",
    "\n",
    "# Convertir solo los primeros 5 documentos a formato denso\n",
    "df = pd.DataFrame(tfidf[:5].toarray(), columns=terminos)\n",
    "\n",
    "# Mostrar las primeras filas/columnas\n",
    "print(df.iloc[:, :10])  # primeras 10 columnas\n"
   ]
  },
  {
   "cell_type": "markdown",
   "id": "64491bce5361e8b3",
   "metadata": {},
   "source": [
    "## Parte 2: Ranking de documentos usando TF-IDF\n",
    "\n",
    "### Actividad \n",
    "\n",
    "1. Dada una consulta, construye el vector de consulta\n"
   ]
  },
  {
   "cell_type": "code",
   "execution_count": 25,
   "id": "9d082c4a156b9554",
   "metadata": {},
   "outputs": [],
   "source": [
    "query = [\"jesus\"]\n",
    "query_vect = vectorizer.transform(query)"
   ]
  },
  {
   "cell_type": "markdown",
   "id": "0f1d729a",
   "metadata": {},
   "source": [
    "2. Calcula la similitud coseno entre la consulta y cada documento usando los vectores TF-IDF\n"
   ]
  },
  {
   "cell_type": "code",
   "execution_count": 26,
   "id": "ad4f384f",
   "metadata": {},
   "outputs": [
    {
     "data": {
      "text/plain": [
       "numpy.ndarray"
      ]
     },
     "execution_count": 26,
     "metadata": {},
     "output_type": "execute_result"
    }
   ],
   "source": [
    "from sklearn.metrics.pairwise import cosine_similarity\n",
    "\n",
    "# Compara el vector de consulta con todos los vectores de documentos\n",
    "similaridades = cosine_similarity(query_vect, tfidf)\n",
    "\n",
    "type(similaridades)\n",
    "\n"
   ]
  },
  {
   "cell_type": "markdown",
   "id": "ade0a8a2",
   "metadata": {},
   "source": [
    "3. Genera un ranking de los documentos ordenados por relevancia.\n"
   ]
  },
  {
   "cell_type": "code",
   "execution_count": 27,
   "id": "5baec0b9",
   "metadata": {},
   "outputs": [
    {
     "name": "stdout",
     "output_type": "stream",
     "text": [
      "[ 1268  6497 10843 ... 18818 18817 18834]\n"
     ]
    }
   ],
   "source": [
    "import numpy as np\n",
    "import pandas as pd\n",
    "\n",
    "# Índices ordenados por similitud (mayor a menor)\n",
    "ranking_tfidf = np.argsort(similaridades[0])[::-1]\n",
    "\n",
    "print(ranking_tfidf)\n"
   ]
  },
  {
   "cell_type": "markdown",
   "id": "73a71f4d",
   "metadata": {},
   "source": [
    "4. Muestra los resultados en una tabla."
   ]
  },
  {
   "cell_type": "code",
   "execution_count": 28,
   "id": "ad64bfc0",
   "metadata": {},
   "outputs": [
    {
     "name": "stdout",
     "output_type": "stream",
     "text": [
      "   documento_index  similitud  \\\n",
      "0             1268   0.673618   \n",
      "1             6497   0.542970   \n",
      "2            10843   0.536197   \n",
      "3              200   0.522024   \n",
      "4            10358   0.461200   \n",
      "5             6940   0.447763   \n",
      "6             7801   0.443486   \n",
      "\n",
      "                                                                                                                                                                                                            preview_200  \\\n",
      "0       Jesus isn't God ? When Jesus returns some people may miss Him ?  What version of\\nthe Bible do you read Mike ?\\n\\nJesus is God incarnate (in flesh) . Jesus said, 'I and the Father are one.' \\nJesus was ta...   \n",
      "1  \\n\\nBrian K., guess what?  You missed the point.  On a scale from cold to\\nhot, you are at 0 degrees Kelvin.\\n\\n\\nThen as you understand it, what is it?\\n\\n\\nYes.  I agree with that.  But what does that have t...   \n",
      "2                  \\n\\tHmm...makes you wonder whether prayer \"in Jesus' name\" means\\n\"saying Jesus' name\" or whether we're simply to do all things with the\\nattitude that we belong to Jesus.\\n\\t\\t\\t\\t\\tFrank D.\\n...   \n",
      "3                                                                                                                                                                     \\nJesus did and so do I.\\n\\nPeace be with you,...   \n",
      "4        \\nLet me say that the life, death, and resurrection of Jesus Christ is\\ncentral to Christianity. If you personally believe that Jesus Christ\\ndied for you, you are a part of the Christian body of believe...   \n",
      "5  Jesus:\\n\\n\\n\\n\\nBlack and white.  A spade is a spade.  There is no hidden\\nagenda behind this, so stop trying to look for one.   It is an\\neasy and as straight forward as it reads.\\n\\nKent, I am not accusing y...   \n",
      "6                                                                  Brian, it doesn't offend me if you decide to reject Jesus\\n   Christ.  I only wish you would make that decision after you\\n   learn who Jesus is....   \n",
      "\n",
      "                                                                                                                                                                                                                                                                                                                                                                                                                                                                                                                                                                                                      primeras_lineas  \n",
      "0  Jesus isn't God ? When Jesus returns some people may miss Him ?  What version of\\nthe Bible do you read Mike ?\\n\\nJesus is God incarnate (in flesh) . Jesus said, 'I and the Father are one.' \\nJesus was taken up to heaven after His 40 day post-resurrection stint and the\\nangels who were there assured the apostles that Jesus would return the same way\\nand that everyone will see the coming. That's why Jesus warned that many would\\ncome claiming to be Him but that we would know when Jesus actually returns. \\n\\nThese are two very large parts of my faith and you definitely hit a nerve :-)\\n...  \n",
      "1                                                                                                                                                                                                                                                                                                                                                                              \\n\\nBrian K., guess what?  You missed the point.  On a scale from cold to\\nhot, you are at 0 degrees Kelvin.\\n\\n\\nThen as you understand it, what is it?\\n\\n\\nYes.  I agree with that.  But what does that have to do with Jesus?\\n...  \n",
      "2                                                                                                                                                                                                                                                                                                                                                                                                                \\n\\tHmm...makes you wonder whether prayer \"in Jesus' name\" means\\n\"saying Jesus' name\" or whether we're simply to do all things with the\\nattitude that we belong to Jesus.\\n\\t\\t\\t\\t\\tFrank D.\\n...  \n",
      "3                                                                                                                                                                                                                                                                                                                                                                                                                                                                                                                                                                 \\nJesus did and so do I.\\n\\nPeace be with you,\\n...  \n",
      "4                                                                                                                                             \\nLet me say that the life, death, and resurrection of Jesus Christ is\\ncentral to Christianity. If you personally believe that Jesus Christ\\ndied for you, you are a part of the Christian body of believers.\\n\\nWe are all still human. We don't know it all, but homosexual or heterosexual,\\nwe all strive to follow Jesus.  The world is dying and needs to hear about\\nJesus Christ.\\n\\nAre you working together with other Christians to spread the Gospel?\\n...  \n",
      "5                                                                                                                                                                                                                                                                                                                                                    Jesus:\\n\\n\\n\\n\\nBlack and white.  A spade is a spade.  There is no hidden\\nagenda behind this, so stop trying to look for one.   It is an\\neasy and as straight forward as it reads.\\n\\nKent, I am not accusing you of evil things.  Jesus is accusing you.\\n...  \n",
      "6                                                                                                                                                                                                                                                                                                                                                                                                                                                              Brian, it doesn't offend me if you decide to reject Jesus\\n   Christ.  I only wish you would make that decision after you\\n   learn who Jesus is.\\n...  \n",
      "\n",
      "\n",
      "Brian K., guess what?  You missed the point.  On a scale from cold to\n",
      "hot, you are at 0 degrees Kelvin.\n",
      "\n",
      "\n",
      "Then as you understand it, what is it?\n",
      "\n",
      "\n",
      "Yes.  I agree with that.  But what does that have to do with Jesus?\n",
      "Punishment you say?  Jesus did not regard his death as punishment. \n",
      "\n",
      "\n",
      "Good.  I wouldn't either--not the way you understand it.  \n",
      "\n",
      "\n",
      "Ask Jesus himself.  He himself said why in John 12:23-32.  It\n",
      "isn't a mystery to anyone and there certainly is no need for\n",
      "a persuasive argument.   Read Jesus's own reply to your\n",
      "question.\n",
      "\n",
      "Jesus gives more reasons in John 16:7.  But one obvious reason\n",
      "why Jesus died, (and as with everything else, it has nothing do with\n",
      "his punishment) was that he could rise to life again--so that\n",
      "we would \"stop doubting and believe\" (John 21:27).  The fact\n",
      "that Jesus rose from the dead is my hope that I too will rise\n",
      "from the dead.  It is an obvious point.  Do not overlook it.\n",
      "Without this obvious point, I would have no hope\n",
      "and my faith would be vanity.\n",
      "\n",
      "Why did Jesus suffer in his death?  Again, ask Jesus.  Jesus\n",
      "says why in John 15:18-25.   That's no mystery either.  \"The\n",
      "world hates him without reason.\"  It is a direct proclamation\n",
      "of how far we humans botch things up and thus, how much we\n",
      "need a Saviour.\n"
     ]
    }
   ],
   "source": [
    "top_k = 7 #ajustar\n",
    "\n",
    "# Crear tabla con fragmentos cortos y largos\n",
    "resultados = pd.DataFrame({\n",
    "    \"documento_index\": ranking_tfidf[:top_k],\n",
    "    \"similitud\": similaridades[0][ranking_tfidf[:top_k]],\n",
    "    \"preview_200\": [newsgroupsdocs[i][:200] + \"...\" for i in ranking_tfidf[:top_k]],\n",
    "    \"primeras_lineas\": [\n",
    "        \"\\n\".join(newsgroupsdocs[i].splitlines()[:10]) + \"\\n...\"  # las primeras 10 líneas\n",
    "        for i in ranking_tfidf[:top_k]\n",
    "    ]\n",
    "})\n",
    "\n",
    "\n",
    "\n",
    "pd.set_option(\"display.max_colwidth\", None)  # para que no corte las columnas\n",
    "print(resultados)\n",
    "\n",
    "print(newsgroupsdocs[6497])"
   ]
  },
  {
   "cell_type": "markdown",
   "id": "97061325508dc5f2",
   "metadata": {},
   "source": [
    "## Parte 3: Ranking con BM25\n",
    "\n",
    "### Actividad \n",
    "\n",
    "1. Implementa un sistema de recuperación usando el modelo BM25.\n"
   ]
  },
  {
   "cell_type": "code",
   "execution_count": 33,
   "id": "2a0dca2bcfa73c5b",
   "metadata": {},
   "outputs": [],
   "source": [
    "#importamos la librería BM25\n",
    "from rank_bm25 import BM25Okapi"
   ]
  },
  {
   "cell_type": "code",
   "execution_count": 34,
   "id": "35794512",
   "metadata": {},
   "outputs": [
    {
     "name": "stdout",
     "output_type": "stream",
     "text": [
      "Documento 0: ['am', 'sure', 'some', 'bashers', 'of', 'pens', 'fans', 'are', 'pretty', 'confused', 'about', 'the', 'lack', 'of', 'any', 'kind', 'of', 'posts', 'about', 'the', 'recent', 'pens', 'massacre', 'of', 'the', 'devils', 'actually', 'am', 'bit', 'puzzled', 'too', 'and', 'bit', 'relieved', 'however', 'am', 'going', 'to', 'put', 'an', 'end', 'to', 'non', 'pittsburghers', 'relief', 'with', 'bit', 'of', 'praise', 'for', 'the', 'pens', 'man', 'they', 'are', 'killing', 'those', 'devils', 'worse', 'than', 'thought', 'jagr', 'just', 'showed', 'you', 'why', 'he', 'is', 'much', 'better', 'than', 'his', 'regular', 'season', 'stats', 'he', 'is', 'also', 'lot', 'fo', 'fun', 'to', 'watch', 'in', 'the', 'playoffs', 'bowman', 'should', 'let', 'jagr', 'have', 'lot', 'of', 'fun', 'in', 'the', 'next', 'couple', 'of', 'games', 'since', 'the', 'pens', 'are', 'going', 'to', 'beat', 'the', 'pulp', 'out', 'of', 'jersey', 'anyway', 'was', 'very', 'disappointed', 'not', 'to', 'see', 'the', 'islanders', 'lose', 'the', 'final', 'regular', 'season', 'game', 'pens', 'rule']\n",
      "Documento 1: ['my', 'brother', 'is', 'in', 'the', 'market', 'for', 'high', 'performance', 'video', 'card', 'that', 'supports', 'vesa', 'local', 'bus', 'with', '2mb', 'ram', 'does', 'anyone', 'have', 'suggestions', 'ideas', 'on', 'diamond', 'stealth', 'pro', 'local', 'bus', 'orchid', 'farenheit', '1280', 'ati', 'graphics', 'ultra', 'pro', 'any', 'other', 'high', 'performance', 'vlb', 'card', 'please', 'post', 'or', 'email', 'thank', 'you', 'matt']\n",
      "Documento 2: ['finally', 'you', 'said', 'what', 'you', 'dream', 'about', 'mediterranean', 'that', 'was', 'new', 'the', 'area', 'will', 'be', 'greater', 'after', 'some', 'years', 'like', 'your', 'holocaust', 'numbers', 'is', 'july', 'in', 'usa', 'now', 'here', 'in', 'sweden', 'it', 'april', 'and', 'still', 'cold', 'or', 'have', 'you', 'changed', 'your', 'calendar', 'nothing', 'of', 'the', 'mentioned', 'is', 'true', 'but', 'let', 'say', 'it', 'true', 'shall', 'the', 'azeri', 'women', 'and', 'children', 'going', 'to', 'pay', 'the', 'price', 'with', 'being', 'raped', 'killed', 'and', 'tortured', 'by', 'the', 'armenians', 'have', 'you', 'hearded', 'something', 'called', 'geneva', 'convention', 'you', 'facist', 'ohhh', 'forgot', 'this', 'is', 'how', 'armenians', 'fight', 'nobody', 'has', 'forgot', 'you', 'killings', 'rapings', 'and', 'torture', 'against', 'the', 'kurds', 'and', 'turks', 'once', 'upon', 'time', 'ohhhh', 'so', 'swedish', 'redcross', 'workers', 'do', 'lie', 'they', 'too', 'what', 'ever', 'you', 'say', 'regional', 'killer', 'if', 'you', 'don', 'like', 'the', 'person', 'then', 'shoot', 'him', 'that', 'your', 'policy', 'confused', 'search', 'turkish', 'planes', 'you', 'don', 'know', 'what', 'you', 'are', 'talking', 'about', 'turkey', 'government', 'has', 'announced', 'that', 'it', 'giving', 'weapons', 'to', 'azerbadjan', 'since', 'armenia', 'started', 'to', 'attack', 'azerbadjan', 'it', 'self', 'not', 'the', 'karabag', 'province', 'so', 'why', 'search', 'plane', 'for', 'weapons', 'since', 'it', 'content', 'is', 'announced', 'to', 'be', 'weapons', 'if', 'there', 'is', 'one', 'that', 'confused', 'then', 'that', 'you', 'we', 'have', 'the', 'right', 'and', 'we', 'do', 'to', 'give', 'weapons', 'to', 'the', 'azeris', 'since', 'armenians', 'started', 'the', 'fight', 'in', 'azerbadjan', 'shoot', 'down', 'with', 'what', 'armenian', 'bread', 'and', 'butter', 'or', 'the', 'arms', 'and', 'personel', 'of', 'the', 'russian', 'army']\n",
      "Documento 3: ['think', 'it', 'the', 'scsi', 'card', 'doing', 'the', 'dma', 'transfers', 'not', 'the', 'disks', 'the', 'scsi', 'card', 'can', 'do', 'dma', 'transfers', 'containing', 'data', 'from', 'any', 'of', 'the', 'scsi', 'devices', 'it', 'is', 'attached', 'when', 'it', 'wants', 'to', 'an', 'important', 'feature', 'of', 'scsi', 'is', 'the', 'ability', 'to', 'detach', 'device', 'this', 'frees', 'the', 'scsi', 'bus', 'for', 'other', 'devices', 'this', 'is', 'typically', 'used', 'in', 'multi', 'tasking', 'os', 'to', 'start', 'transfers', 'on', 'several', 'devices', 'while', 'each', 'device', 'is', 'seeking', 'the', 'data', 'the', 'bus', 'is', 'free', 'for', 'other', 'commands', 'and', 'data', 'transfers', 'when', 'the', 'devices', 'are', 'ready', 'to', 'transfer', 'the', 'data', 'they', 'can', 'aquire', 'the', 'bus', 'and', 'send', 'the', 'data', 'on', 'an', 'ide', 'bus', 'when', 'you', 'start', 'transfer', 'the', 'bus', 'is', 'busy', 'until', 'the', 'disk', 'has', 'seeked', 'the', 'data', 'and', 'transfered', 'it', 'this', 'is', 'typically', '10', '20ms', 'second', 'lock', 'out', 'for', 'other', 'processes', 'wanting', 'the', 'bus', 'irrespective', 'of', 'transfer', 'time']\n",
      "Documento 4: ['have', 'an', 'old', 'jasmine', 'drive', 'which', 'cannot', 'use', 'with', 'my', 'new', 'system', 'my', 'understanding', 'is', 'that', 'have', 'to', 'upsate', 'the', 'driver', 'with', 'more', 'modern', 'one', 'in', 'order', 'to', 'gain', 'compatability', 'with', 'system', 'does', 'anyone', 'know', 'of', 'an', 'inexpensive', 'program', 'to', 'do', 'this', 'have', 'seen', 'formatters', 'for', '20', 'buit', 'have', 'no', 'idea', 'if', 'they', 'will', 'work', 'have', 'another', 'ancient', 'device', 'this', 'one', 'tape', 'drive', 'for', 'which', 'the', 'back', 'utility', 'freezes', 'the', 'system', 'if', 'try', 'to', 'use', 'it', 'the', 'drive', 'is', 'jasmine', 'direct', 'tape', 'bought', 'used', 'for', '150', 'tapes', 'techmar', 'mechanism', 'essentially', 'have', 'the', 'same', 'question', 'as', 'above', 'anyone', 'know', 'of', 'an', 'inexpensive', 'beckup', 'utility', 'can', 'use', 'with', 'system']\n"
     ]
    }
   ],
   "source": [
    "#a nuestro objeto vecetorizer (ya entrenado) extraemos el corpus tokenizado\n",
    "analyzer = vectorizer.build_analyzer()\n",
    "tokenized_corpus = [analyzer(doc) for doc in newsgroupsdocs]\n",
    "for i, doc in enumerate(newsgroupsdocs[:5]):\n",
    "    tokens = analyzer(doc)\n",
    "    print(f\"Documento {i}: {tokens}\")\n"
   ]
  },
  {
   "cell_type": "code",
   "execution_count": 35,
   "id": "8a967101",
   "metadata": {},
   "outputs": [],
   "source": [
    "# Creamos el objeto BM25 con el corpus tokenizado\n",
    "bm25 = BM25Okapi(tokenized_corpus)"
   ]
  },
  {
   "cell_type": "markdown",
   "id": "8d1161bb",
   "metadata": {},
   "source": [
    "2. Usa la misma consulta del ejercicio anterior.\n"
   ]
  },
  {
   "cell_type": "code",
   "execution_count": 36,
   "id": "5db5c738",
   "metadata": {},
   "outputs": [],
   "source": [
    "query = \"jesus\"\n",
    "tokenized_query = query.lower().split()\n"
   ]
  },
  {
   "cell_type": "markdown",
   "id": "d560d05e",
   "metadata": {},
   "source": [
    "3. Calcula el score BM25 para cada documento y genera un ranking.\n"
   ]
  },
  {
   "cell_type": "code",
   "execution_count": 37,
   "id": "611809b8",
   "metadata": {},
   "outputs": [
    {
     "name": "stdout",
     "output_type": "stream",
     "text": [
      "   documento_index  score_bm25  \\\n",
      "0             1268    8.407652   \n",
      "1             6497    8.056525   \n",
      "2            16971    8.023306   \n",
      "3             9000    7.998475   \n",
      "4            10843    7.971170   \n",
      "5             9744    7.880255   \n",
      "6            10358    7.815677   \n",
      "\n",
      "                                                                                                                                                                                                            preview_200  \\\n",
      "0       Jesus isn't God ? When Jesus returns some people may miss Him ?  What version of\\nthe Bible do you read Mike ?\\n\\nJesus is God incarnate (in flesh) . Jesus said, 'I and the Father are one.' \\nJesus was ta...   \n",
      "1  \\n\\nBrian K., guess what?  You missed the point.  On a scale from cold to\\nhot, you are at 0 degrees Kelvin.\\n\\n\\nThen as you understand it, what is it?\\n\\n\\nYes.  I agree with that.  But what does that have t...   \n",
      "2     existance.  \\n\\n\\n***************************************************************************\\n\\tI just thought it necessary to help defend the point that Jesus \\nexisted.  Guys: Jesus existed.  If he didnt...   \n",
      "3     \\n:> God is eternal.    [A = B]\\n:> Jesus is God.      [C = A]\\n:> Therefore, Jesus is eternal.  [C = B]\\n\\n:> This works both logically and mathematically.  God is of the set of\\n:> things which are eterna...   \n",
      "4                  \\n\\tHmm...makes you wonder whether prayer \"in Jesus' name\" means\\n\"saying Jesus' name\" or whether we're simply to do all things with the\\nattitude that we belong to Jesus.\\n\\t\\t\\t\\t\\tFrank D.\\n...   \n",
      "5    \\n[...Dr. England's story deleted, it was a nice read the first time \\nthrough...]]\\n\\n\\n\\tIt isn't so much a matter of 'interpretation' of Bible texts \\nthat sets Mormonism apart from orthodoxy as it is a m...   \n",
      "6        \\nLet me say that the life, death, and resurrection of Jesus Christ is\\ncentral to Christianity. If you personally believe that Jesus Christ\\ndied for you, you are a part of the Christian body of believe...   \n",
      "\n",
      "                                                                                                                                                                                                                                                                                                                                                                                                                                                                                                                                                                                                      primeras_lineas  \n",
      "0  Jesus isn't God ? When Jesus returns some people may miss Him ?  What version of\\nthe Bible do you read Mike ?\\n\\nJesus is God incarnate (in flesh) . Jesus said, 'I and the Father are one.' \\nJesus was taken up to heaven after His 40 day post-resurrection stint and the\\nangels who were there assured the apostles that Jesus would return the same way\\nand that everyone will see the coming. That's why Jesus warned that many would\\ncome claiming to be Him but that we would know when Jesus actually returns. \\n\\nThese are two very large parts of my faith and you definitely hit a nerve :-)\\n...  \n",
      "1                                                                                                                                                                                                                                                                                                                                                                              \\n\\nBrian K., guess what?  You missed the point.  On a scale from cold to\\nhot, you are at 0 degrees Kelvin.\\n\\n\\nThen as you understand it, what is it?\\n\\n\\nYes.  I agree with that.  But what does that have to do with Jesus?\\n...  \n",
      "2                                                        existance.  \\n\\n\\n***************************************************************************\\n\\tI just thought it necessary to help defend the point that Jesus \\nexisted.  Guys: Jesus existed.  If he didnt, then you have to say that \\nSocrates didnt exist cuz he, like Jesus, has nothing from his hands that \\nhave survived.  Only Plato and others record his existance.  Many others \\nrecord Jesus' existance, including the Babylonian Talmud.  Sorry guys, the \\nargument that Jesus may not have existed is a dead point now.  He did.  \\n...  \n",
      "3                                                                                                                                                                                                                                                    \\n:> God is eternal.    [A = B]\\n:> Jesus is God.      [C = A]\\n:> Therefore, Jesus is eternal.  [C = B]\\n\\n:> This works both logically and mathematically.  God is of the set of\\n:> things which are eternal.  Jesus is a subset of God.   Therefore\\n:> Jesus belongs to the set of things which are eternal.\\n\\nEverything isn't always so logical....\\n...  \n",
      "4                                                                                                                                                                                                                                                                                                                                                                                                                \\n\\tHmm...makes you wonder whether prayer \"in Jesus' name\" means\\n\"saying Jesus' name\" or whether we're simply to do all things with the\\nattitude that we belong to Jesus.\\n\\t\\t\\t\\t\\tFrank D.\\n...  \n",
      "5                                                                                                                                                                                                                                                                                                    \\n[...Dr. England's story deleted, it was a nice read the first time \\nthrough...]]\\n\\n\\n\\tIt isn't so much a matter of 'interpretation' of Bible texts \\nthat sets Mormonism apart from orthodoxy as it is a matter of \\n*fabrication*.\\n\\n\\tAbout 20 years ago, _National Lampoon_ had some comic strips \\n...  \n",
      "6                                                                                                                                             \\nLet me say that the life, death, and resurrection of Jesus Christ is\\ncentral to Christianity. If you personally believe that Jesus Christ\\ndied for you, you are a part of the Christian body of believers.\\n\\nWe are all still human. We don't know it all, but homosexual or heterosexual,\\nwe all strive to follow Jesus.  The world is dying and needs to hear about\\nJesus Christ.\\n\\nAre you working together with other Christians to spread the Gospel?\\n...  \n"
     ]
    }
   ],
   "source": [
    "scores = bm25.get_scores(tokenized_query)\n",
    "\n",
    "# Paso 5: Generar el ranking\n",
    "ranking_bm25 = scores.argsort()[::-1]  # índices ordenados de mayor a menor score\n",
    "\n",
    "# Paso 6: Crear la tabla con previews y primeras líneas\n",
    "top_k = 7  \n",
    "\n",
    "resultados = pd.DataFrame({\n",
    "    \"documento_index\": ranking_bm25[:top_k],\n",
    "    \"score_bm25\": [scores[i] for i in ranking_bm25[:top_k]],\n",
    "    \"preview_200\": [newsgroupsdocs[i][:200] + \"...\" for i in ranking_bm25[:top_k]],\n",
    "    \"primeras_lineas\": [\n",
    "        \"\\n\".join(newsgroupsdocs[i].splitlines()[:10]) + \"\\n...\"\n",
    "        for i in ranking_bm25[:top_k]\n",
    "    ]\n",
    "})\n",
    "\n",
    "# Para que pandas no recorte las columnas\n",
    "pd.set_option(\"display.max_colwidth\", None)\n",
    "\n",
    "# Mostrar la tabla\n",
    "print(resultados)\n"
   ]
  },
  {
   "cell_type": "markdown",
   "id": "cc66fd49",
   "metadata": {},
   "source": [
    "4. Compara manualmente con el ranking de TF-IDF."
   ]
  },
  {
   "cell_type": "markdown",
   "id": "a7d2e2cd",
   "metadata": {},
   "source": [
    "Coinciden bastante al inicio pero luego no tanto"
   ]
  },
  {
   "cell_type": "markdown",
   "id": "2c71b85e77b4b181",
   "metadata": {},
   "source": [
    "## Parte 4: Comparación visual entre TF-IDF y BM25\n",
    "\n",
    "### Actividad \n",
    "\n",
    "1. Utiliza un gráfico de barras para visualizar los scores obtenidos por cada documento según TF-IDF y BM25.\n",
    "2. Compara los rankings visualmente.\n",
    "3. Identifica: ¿Qué documentos obtienen scores más altos en un modelo que en otro?\n",
    "4. Sugiere: ¿A qué se podría deber esta diferencia?"
   ]
  },
  {
   "cell_type": "code",
   "execution_count": 38,
   "id": "16ad3d9d16c04d35",
   "metadata": {},
   "outputs": [
    {
     "data": {
      "image/png": "[encoded data removed]",
      "text/plain": [
       "<Figure size 1200x600 with 1 Axes>"
      ]
     },
     "metadata": {},
     "output_type": "display_data"
    }
   ],
   "source": [
    "import matplotlib.pyplot as plt\n",
    "import numpy as np\n",
    "import pandas as pd\n",
    "from sklearn.preprocessing import MinMaxScaler\n",
    "\n",
    "scaler = MinMaxScaler()\n",
    "scores_normalized = scaler.fit_transform(scores.reshape(-1, 1)).flatten()\n",
    "\n",
    "# Obtener los índices de ranking de ambos modelos\n",
    "top_k = 10  # puedes ajustar\n",
    "ranking_tfidf = np.argsort(similaridades[0])[::-1][:top_k]\n",
    "ranking_bm25 = np.argsort(scores_normalized)[::-1][:top_k]\n",
    "\n",
    "# Crear DataFrames para comparar\n",
    "df_tfidf = pd.DataFrame({\n",
    "    'doc_index': ranking_tfidf,\n",
    "    'score_tfidf': similaridades[0][ranking_tfidf]\n",
    "})\n",
    "\n",
    "df_bm25 = pd.DataFrame({\n",
    "    'doc_index': ranking_bm25,\n",
    "    'score_bm25': scores_normalized[ranking_bm25]\n",
    "})\n",
    "\n",
    "# Unir ambos rankings (outer join para conservar todos)\n",
    "df_comparacion = pd.merge(df_tfidf, df_bm25, on='doc_index', how='outer').fillna(0)\n",
    "\n",
    "# Ordenar por score combinado para visualización más coherente\n",
    "df_comparacion.sort_values(by=[\"score_tfidf\", \"score_bm25\"], ascending=False, inplace=True)\n",
    "\n",
    "# Gráfico de comparación\n",
    "x = np.arange(len(df_comparacion))\n",
    "width = 0.35\n",
    "\n",
    "plt.figure(figsize=(12, 6))\n",
    "plt.bar(x - width/2, df_comparacion['score_tfidf'], width, label='TF-IDF', color='skyblue')\n",
    "plt.bar(x + width/2, df_comparacion['score_bm25'], width, label='BM25', color='salmon')\n",
    "\n",
    "# Etiquetas\n",
    "plt.xlabel('Índice de documento')\n",
    "plt.ylabel('Score')\n",
    "plt.title('Comparación de scores: TF-IDF vs BM25')\n",
    "plt.xticks(x, df_comparacion['doc_index'], rotation=45)\n",
    "plt.legend()\n",
    "plt.tight_layout()\n",
    "plt.show()\n"
   ]
  },
  {
   "cell_type": "markdown",
   "id": "b97d171655ecfb",
   "metadata": {},
   "source": [
    "## Parte 5: Evaluación con consulta relevante\n",
    "\n",
    "### Actividad \n",
    "\n",
    "1. Elige una consulta y define qué documentos del corpus deberían considerarse relevantes.\n",
    "2. Evalúa Precision@3 o MAP para los rankings generados con TF-IDF y BM25.\n",
    "3. Responde: ¿Cuál modelo da mejores resultados respecto a tu criterio de relevancia?"
   ]
  },
  {
   "cell_type": "code",
   "execution_count": 40,
   "id": "c8bbab35",
   "metadata": {},
   "outputs": [],
   "source": [
    "# Consultas de ejemplo\n",
    "query5 = \"newton gravity\""
   ]
  },
  {
   "cell_type": "code",
   "execution_count": 50,
   "id": "6d5de59378900ca",
   "metadata": {},
   "outputs": [
    {
     "name": "stdout",
     "output_type": "stream",
     "text": [
      "Resultados TF-IDF para la consulta: newton gravity\n",
      "   documento_index  similitud  \\\n",
      "0             5654   0.418876   \n",
      "1            14115   0.377258   \n",
      "2             2013   0.303081   \n",
      "3            17333   0.293744   \n",
      "4            14897   0.278749   \n",
      "5            15823   0.189628   \n",
      "\n",
      "                                                                                                                                                                                                        preview_200  \\\n",
      "0                                                                                                             \\nGravity?  Doesn't gravity pull down the photons and cause a doppler shift\\nor something?\\n\\n\\n\\n...   \n",
      "1    \\n    What do you accept as a fact --  the roundness of the earth (after \\nall, the ancient Greeks thought it was a sphere, and then Newton said \\nit was a spheroid, and now people say it's a geoid [?])?...   \n",
      "2                                                                                                                             \\nYou fall if it opens, too.\\n\\nGravity:  it's not just a good idea; it's the law....   \n",
      "3   \\n\\nThe gravity data is collected in real-time and it not recorded to the tape\\nrecorder.  However, you only need to collect the gravity every 3rd or 4th\\norbit, so there is no real data loss if the Moon ...   \n",
      "4                                                                                                                           Joe,\\n\\n\\tyour description sounds like one of the  gravity probe  spacecraft\\nideas....   \n",
      "5  \\nConsider special relativity.  It hasn't be proved, nor has it been\\ndisproved.  No one has a proof one way or the other, but many people\\nare interested in it!\\n \\nI've satisfied myself that nothing coul...   \n",
      "\n",
      "                                                                                                                                                                                                                                                                                                                                                                                                                                                                                                                                  primeras_lineas  \n",
      "0                                                                                                                                                                                                                                                                                                                                                                                                                                           \\nGravity?  Doesn't gravity pull down the photons and cause a doppler shift\\nor something?\\n\\n\\n\\n...  \n",
      "1                      \\n    What do you accept as a fact --  the roundness of the earth (after \\nall, the ancient Greeks thought it was a sphere, and then Newton said \\nit was a spheroid, and now people say it's a geoid [?])?  yourself \\n(isn't your personal identity just a theoretical construct to make \\nsense of memories, feelings, perceptions)?  I'm trying to think of \\nanything that would be a fact for you.  Give some examples, and let's\\nsee how factual they are by your criteria (BTW, what are your\\ncriteria?).\\n\\n...  \n",
      "2                                                                                                                                                                                                                                                                                                                                                                                                                                                         \\nYou fall if it opens, too.\\n\\nGravity:  it's not just a good idea; it's the law.\\n...  \n",
      "3                                                                                                                                                                                                                                                                                        \\n\\nThe gravity data is collected in real-time and it not recorded to the tape\\nrecorder.  However, you only need to collect the gravity every 3rd or 4th\\norbit, so there is no real data loss if the Moon blocks transmission for\\na short while.\\n...  \n",
      "4                                                                                                                                                                                                                                                                                                                                                                                                                                                       Joe,\\n\\n\\tyour description sounds like one of the  gravity probe  spacecraft\\nideas.\\n...  \n",
      "5  \\nConsider special relativity.  It hasn't be proved, nor has it been\\ndisproved.  No one has a proof one way or the other, but many people\\nare interested in it!\\n \\nI've satisfied myself that nothing could indicate absolutely the\\nexistence of God one way or the other.  The two possibilities\\nare supernaturalism and naturalism.  Of course no set of circumstances can\\nbe inconsistent with supernaturalism, but similarly, no set of circumstances\\ncan be inconsistent with naturalism.  In naturalism, any phenomenon that\\n...  \n"
     ]
    }
   ],
   "source": [
    "#consulta tfidf\n",
    "query_vect5 = vectorizer.transform([query5])\n",
    "similaridades5 = cosine_similarity(query_vect5, tfidf) \n",
    "ranking_tfidf5 = np.argsort(similaridades5[0])[::-1]\n",
    "top_k5 = 6  # ajustar\n",
    "resultados5 = pd.DataFrame({\n",
    "    \"documento_index\": ranking_tfidf5[:top_k5],\n",
    "    \"similitud\": similaridades5[0][ranking_tfidf5[:top_k5]],\n",
    "    \"preview_200\": [newsgroupsdocs[i][:200] + \"...\" for i in ranking_tfidf5[:top_k5]],\n",
    "    \"primeras_lineas\": [\n",
    "        \"\\n\".join(newsgroupsdocs[i].splitlines()[:10]) + \"\\n...\"\n",
    "        for i in ranking_tfidf5[:top_k5]\n",
    "    ]\n",
    "})\n",
    "print(\"Resultados TF-IDF para la consulta:\", query5)\n",
    "pd.set_option(\"display.max_colwidth\", None)  # para que no corte las columnas   \n",
    "print(resultados5)"
   ]
  },
  {
   "cell_type": "code",
   "execution_count": null,
   "id": "c2cdeb3d",
   "metadata": {},
   "outputs": [
    {
     "name": "stdout",
     "output_type": "stream",
     "text": [
      "---------------Documento 5654-----------------\n",
      "\n",
      "Gravity?  Doesn't gravity pull down the photons and cause a doppler shift\n",
      "or something?\n",
      "\n",
      "\n",
      "\n",
      "\n",
      "---------------Documento 14115-----------------\n",
      "\n",
      "    What do you accept as a fact --  the roundness of the earth (after \n",
      "all, the ancient Greeks thought it was a sphere, and then Newton said \n",
      "it was a spheroid, and now people say it's a geoid [?])?  yourself \n",
      "(isn't your personal identity just a theoretical construct to make \n",
      "sense of memories, feelings, perceptions)?  I'm trying to think of \n",
      "anything that would be a fact for you.  Give some examples, and let's\n",
      "see how factual they are by your criteria (BTW, what are your\n",
      "criteria?).\n",
      "\n",
      "    \"Gravity is _not_ a fact\": is that a fact?  How about Newton's \n",
      "and Einstein's thoughts about gravity -- is it a fact that they had \n",
      "those thoughts?  I don't see how any of the things that you are \n",
      "asserting are any more factual than things like gravity, atoms or \n",
      "evolution.\n",
      "\n",
      "    In short, before I am willing to consider your concept of what\n",
      "a fact is, I'm going to have to have, as a minimum, some examples of\n",
      "what you think are facts.\n",
      "\n",
      "---------------Documento 2013-----------------\n",
      "\n",
      "You fall if it opens, too.\n",
      "\n",
      "Gravity:  it's not just a good idea; it's the law.\n",
      "---------------Documento 17333-----------------\n",
      "\n",
      "\n",
      "The gravity data is collected in real-time and it not recorded to the tape\n",
      "recorder.  However, you only need to collect the gravity every 3rd or 4th\n",
      "orbit, so there is no real data loss if the Moon blocks transmission for\n",
      "a short while.\n",
      "\n",
      "---------------Documento 14897-----------------\n",
      "Joe,\n",
      "\n",
      "\tyour description sounds like one of the  gravity probe  spacecraft\n",
      "ideas.\n",
      "---------------Documento 15823-----------------\n",
      "\n",
      "Consider special relativity.  It hasn't be proved, nor has it been\n",
      "disproved.  No one has a proof one way or the other, but many people\n",
      "are interested in it!\n",
      " \n",
      "I've satisfied myself that nothing could indicate absolutely the\n",
      "existence of God one way or the other.  The two possibilities\n",
      "are supernaturalism and naturalism.  Of course no set of circumstances can\n",
      "be inconsistent with supernaturalism, but similarly, no set of circumstances\n",
      "can be inconsistent with naturalism.  In naturalism, any phenomenon that\n",
      "could be described as God is considered part of the natural world, to\n",
      "be studied as any other natural phenomenon (gravity, for instance).  \n",
      "For example, if a loud ``godlike'' voice vociferously announced, ``I\n",
      "am God, I exist, and I will prove it by reversing the force of gravity,''\n",
      "and if then gravity did indeed reverse, a naturalist (probably a scientist)\n",
      "would say, ``Boy, we sure didn't understand gravity as well as we\n",
      "thought we did, and that loud voice is something new.  Perhaps we\n",
      "didn't understand thunder as well as we thought we did either.''\n",
      "\n",
      "\n",
      "I'm sure glad you don't know where I live, since you don't seem\n",
      "to realize it is impossible for you to distinguish between voices\n",
      "in your head, and God's voice.\n",
      "\n",
      "\n",
      "You seem to have missed my point.  Even if Jim Jones and David Koresh\n",
      "were not religious people, my point remains that faith and dogma\n",
      "are dangerous, and religion encourages them.  Jim Jones and David Koresh\n",
      "also encouraged them.  My point does not rely on Jim Jones and David\n",
      "Koresh being religious.\n"
     ]
    }
   ],
   "source": [
    "print(\"---------------Documento 5654-----------------\")\n",
    "print(newsgroupsdocs[5654])\n",
    "print(\"---------------Documento 14115-----------------\")\n",
    "print(newsgroupsdocs[14115])\n",
    "print(\"---------------Documento 2013-----------------\")\n",
    "print(newsgroupsdocs[2013])\n",
    "print(\"---------------Documento 17333-----------------\")\n",
    "print(newsgroupsdocs[17333])\n",
    "print(\"---------------Documento 14897-----------------\")\n",
    "print(newsgroupsdocs[14897])\n",
    "print(\"---------------Documento 15823-----------------\")\n",
    "print(newsgroupsdocs[15823])"
   ]
  },
  {
   "cell_type": "code",
   "execution_count": 51,
   "id": "1b4fdf7d",
   "metadata": {},
   "outputs": [
    {
     "name": "stdout",
     "output_type": "stream",
     "text": [
      "Resultados BM25 para la consulta: newton gravity\n",
      "   documento_index  score_bm25  \\\n",
      "0            14115   20.266244   \n",
      "1             5654   11.900046   \n",
      "2            17333   11.041649   \n",
      "3            10639   10.091968   \n",
      "4            14897   10.081940   \n",
      "5             2013    9.955034   \n",
      "\n",
      "                                                                                                                                                                                                             preview_200  \\\n",
      "0         \\n    What do you accept as a fact --  the roundness of the earth (after \\nall, the ancient Greeks thought it was a sphere, and then Newton said \\nit was a spheroid, and now people say it's a geoid [?])?...   \n",
      "1                                                                                                                  \\nGravity?  Doesn't gravity pull down the photons and cause a doppler shift\\nor something?\\n\\n\\n\\n...   \n",
      "2        \\n\\nThe gravity data is collected in real-time and it not recorded to the tape\\nrecorder.  However, you only need to collect the gravity every 3rd or 4th\\norbit, so there is no real data loss if the Moon ...   \n",
      "3  sandvik@newton.apple.com (Kent Sandvik) writes...\\n\\n\\n\\nWhich Jews KS? \\n\\n(ex. as a people, as a language, religiously, politically, or...) \\n\\nDo you mean those Jews who are God's chosen?\\n\\n{And Malcolm, pl...   \n",
      "4                                                                                                                                Joe,\\n\\n\\tyour description sounds like one of the  gravity probe  spacecraft\\nideas....   \n",
      "5                                                                                                                                  \\nYou fall if it opens, too.\\n\\nGravity:  it's not just a good idea; it's the law....   \n",
      "\n",
      "                                                                                                                                                                                                                                                                                                                                                                                                                                                                                                              primeras_lineas  \n",
      "0  \\n    What do you accept as a fact --  the roundness of the earth (after \\nall, the ancient Greeks thought it was a sphere, and then Newton said \\nit was a spheroid, and now people say it's a geoid [?])?  yourself \\n(isn't your personal identity just a theoretical construct to make \\nsense of memories, feelings, perceptions)?  I'm trying to think of \\nanything that would be a fact for you.  Give some examples, and let's\\nsee how factual they are by your criteria (BTW, what are your\\ncriteria?).\\n\\n...  \n",
      "1                                                                                                                                                                                                                                                                                                                                                                                                                       \\nGravity?  Doesn't gravity pull down the photons and cause a doppler shift\\nor something?\\n\\n\\n\\n...  \n",
      "2                                                                                                                                                                                                                                                                    \\n\\nThe gravity data is collected in real-time and it not recorded to the tape\\nrecorder.  However, you only need to collect the gravity every 3rd or 4th\\norbit, so there is no real data loss if the Moon blocks transmission for\\na short while.\\n...  \n",
      "3                                                                                                                                                                                                                                                                                                                       sandvik@newton.apple.com (Kent Sandvik) writes...\\n\\n\\n\\nWhich Jews KS? \\n\\n(ex. as a people, as a language, religiously, politically, or...) \\n\\nDo you mean those Jews who are God's chosen?\\n\\n...  \n",
      "4                                                                                                                                                                                                                                                                                                                                                                                                                                   Joe,\\n\\n\\tyour description sounds like one of the  gravity probe  spacecraft\\nideas.\\n...  \n",
      "5                                                                                                                                                                                                                                                                                                                                                                                                                                     \\nYou fall if it opens, too.\\n\\nGravity:  it's not just a good idea; it's the law.\\n...  \n"
     ]
    }
   ],
   "source": [
    "#consulta bm25\n",
    "tokenized_query = query5.lower().split()\n",
    "scores5 = bm25.get_scores(tokenized_query)\n",
    "ranking_bm25 = scores5.argsort()[::-1]\n",
    "resultados_bm25 = pd.DataFrame({\n",
    "    \"documento_index\": ranking_bm25[:top_k5],\n",
    "    \"score_bm25\": [scores5[i] for i in ranking_bm25[:top_k5]],\n",
    "    \"preview_200\": [newsgroupsdocs[i][:200] + \"...\" for i in ranking_bm25[:top_k5]],\n",
    "    \"primeras_lineas\": [\n",
    "        \"\\n\".join(newsgroupsdocs[i].splitlines()[:10]) + \"\\n...\"\n",
    "        for i in ranking_bm25[:top_k5]\n",
    "    ]\n",
    "})  \n",
    "print(\"Resultados BM25 para la consulta:\", query5)\n",
    "pd.set_option(\"display.max_colwidth\", None)  # para que no corte las columnas   \n",
    "print(resultados_bm25)\n",
    "\n"
   ]
  },
  {
   "cell_type": "code",
   "execution_count": 43,
   "id": "81faf2d1",
   "metadata": {},
   "outputs": [
    {
     "name": "stdout",
     "output_type": "stream",
     "text": [
      "---------------Documento 14115-----------------\n",
      "\n",
      "    What do you accept as a fact --  the roundness of the earth (after \n",
      "all, the ancient Greeks thought it was a sphere, and then Newton said \n",
      "it was a spheroid, and now people say it's a geoid [?])?  yourself \n",
      "(isn't your personal identity just a theoretical construct to make \n",
      "sense of memories, feelings, perceptions)?  I'm trying to think of \n",
      "anything that would be a fact for you.  Give some examples, and let's\n",
      "see how factual they are by your criteria (BTW, what are your\n",
      "criteria?).\n",
      "\n",
      "    \"Gravity is _not_ a fact\": is that a fact?  How about Newton's \n",
      "and Einstein's thoughts about gravity -- is it a fact that they had \n",
      "those thoughts?  I don't see how any of the things that you are \n",
      "asserting are any more factual than things like gravity, atoms or \n",
      "evolution.\n",
      "\n",
      "    In short, before I am willing to consider your concept of what\n",
      "a fact is, I'm going to have to have, as a minimum, some examples of\n",
      "what you think are facts.\n",
      "\n",
      "---------------Documento 5654-----------------\n",
      "\n",
      "Gravity?  Doesn't gravity pull down the photons and cause a doppler shift\n",
      "or something?\n",
      "\n",
      "\n",
      "\n",
      "\n",
      "---------------Documento 17333-----------------\n",
      "\n",
      "\n",
      "The gravity data is collected in real-time and it not recorded to the tape\n",
      "recorder.  However, you only need to collect the gravity every 3rd or 4th\n",
      "orbit, so there is no real data loss if the Moon blocks transmission for\n",
      "a short while.\n",
      "\n",
      "---------------Documento 110639-----------------\n",
      "sandvik@newton.apple.com (Kent Sandvik) writes...\n",
      "\n",
      "\n",
      "\n",
      "Which Jews KS? \n",
      "\n",
      "(ex. as a people, as a language, religiously, politically, or...) \n",
      "\n",
      "Do you mean those Jews who are God's chosen?\n",
      "\n",
      "{And Malcolm, please, if you will, set your word wrap at 75 or less \n",
      "to avoid clutter?}\n",
      "---------------Documento 14897-----------------\n",
      "Joe,\n",
      "\n",
      "\tyour description sounds like one of the  gravity probe  spacecraft\n",
      "ideas.\n",
      "---------------Documento 2013-----------------\n",
      "\n",
      "You fall if it opens, too.\n",
      "\n",
      "Gravity:  it's not just a good idea; it's the law.\n"
     ]
    }
   ],
   "source": [
    "print(\"---------------Documento 14115-----------------\")\n",
    "print(newsgroupsdocs[14115])\n",
    "print(\"---------------Documento 5654-----------------\")\n",
    "print(newsgroupsdocs[5654])\n",
    "print(\"---------------Documento 17333-----------------\")\n",
    "print(newsgroupsdocs[17333])\n",
    "print(\"---------------Documento 110639-----------------\")\n",
    "print(newsgroupsdocs[10639])\n",
    "print(\"---------------Documento 14897-----------------\")\n",
    "print(newsgroupsdocs[14897])\n",
    "print(\"---------------Documento 2013-----------------\")\n",
    "print(newsgroupsdocs[2013])"
   ]
  },
  {
   "cell_type": "code",
   "execution_count": 44,
   "id": "456eb168",
   "metadata": {},
   "outputs": [],
   "source": [
    "# Diccionarios de relevancia para comparar resultados\n",
    "relevancia_tfidf = {\n",
    "    5654: 0,\n",
    "    14115: 1,\n",
    "    2013: 0,\n",
    "    17333: 0,\n",
    "    14897: 0,\n",
    "    15823: 1\n",
    "    \n",
    "}\n",
    "relevancia_BM25 = {\n",
    "    14115: 1,\n",
    "    5654: 0,\n",
    "    17333: 0,\n",
    "    10639: 0,\n",
    "    14897: 0,\n",
    "    2013: 0  \n",
    "}\n",
    "# Unión de ambos rankings\n",
    "relevancia_unificada = {\n",
    "    5654: 0,\n",
    "    14115: 1,\n",
    "    2013: 0,\n",
    "    17333: 0,\n",
    "    14897: 0,\n",
    "    15823: 1,\n",
    "    10639: 0\n",
    "}\n"
   ]
  },
  {
   "cell_type": "code",
   "execution_count": 45,
   "id": "7b994f41",
   "metadata": {},
   "outputs": [],
   "source": [
    "def precision_at_k(ranking, relevancia_dict, k):\n",
    "    top_k = ranking[:k]\n",
    "    relevantes_en_top_k = sum([relevancia_dict.get(doc, 0) for doc in top_k])\n",
    "    return relevantes_en_top_k / k\n",
    "\n",
    "def average_precision(ranking, relevancia_dict):\n",
    "    hits = 0\n",
    "    precisions = []\n",
    "    for i, doc_id in enumerate(ranking):\n",
    "        if relevancia_dict.get(doc_id, 0):\n",
    "            hits += 1\n",
    "            precisions.append(hits / (i + 1))\n",
    "    if not precisions:\n",
    "        return 0.0\n",
    "    return sum(precisions) / len(relevancia_dict)\n"
   ]
  },
  {
   "cell_type": "code",
   "execution_count": 54,
   "id": "9f38f779",
   "metadata": {},
   "outputs": [
    {
     "name": "stdout",
     "output_type": "stream",
     "text": [
      "TF-IDF: Precision@6 = 0.33, MAP = 0.119\n",
      "BM25:   Precision@6 = 0.17, MAP = 0.184\n"
     ]
    }
   ],
   "source": [
    "# ranking_tfidf5 y ranking_bm25 \n",
    "k = 6  # puedes ajustar este valor\n",
    "\n",
    "# TF-IDF\n",
    "precision_tfidf = precision_at_k(ranking_tfidf5, relevancia_unificada, k)\n",
    "map_tfidf = average_precision(ranking_tfidf5, relevancia_unificada)\n",
    "\n",
    "# BM25\n",
    "precision_bm25 = precision_at_k(ranking_bm25, relevancia_unificada, k)\n",
    "map_bm25 = average_precision(ranking_bm25, relevancia_unificada)\n",
    "\n",
    "# Mostrar resultados\n",
    "print(f\"TF-IDF: Precision@{k} = {precision_tfidf:.2f}, MAP = {map_tfidf:.3f}\")\n",
    "print(f\"BM25:   Precision@{k} = {precision_bm25:.2f}, MAP = {map_bm25:.3f}\")\n"
   ]
  },
  {
   "cell_type": "markdown",
   "id": "b7a7b13a",
   "metadata": {},
   "source": [
    "## ¿Cuál modelo da mejores resultados respecto a tu criterio de relevancia?\n",
    "\n",
    "TF-IDF recuperó 2 documentos relevantes en el top 6 (Precision\\@6 = 0.33), mientras que BM25 solo recuperó 1 (Precision\\@6 = 0.17). A pesar de eso, BM25 obtuvo un MAP más alto (0.184 frente a 0.119), lo que indica que posicionó mejor al documento más relevante. Esto muestra que TF-IDF ofrece mayor cobertura en los resultados relevantes, mientras que BM25 es más efectivo para priorizar los documentos clave al inicio del ranking.\n"
   ]
  }
 ],
 "metadata": {
  "kernelspec": {
   "display_name": ".venv",
   "language": "python",
   "name": "python3"
  },
  "language_info": {
   "codemirror_mode": {
    "name": "ipython",
    "version": 3
   },
   "file_extension": ".py",
   "mimetype": "text/x-python",
   "name": "python",
   "nbconvert_exporter": "python",
   "pygments_lexer": "ipython3",
   "version": "3.13.3"
  }
 },
 "nbformat": 4,
 "nbformat_minor": 5
}
